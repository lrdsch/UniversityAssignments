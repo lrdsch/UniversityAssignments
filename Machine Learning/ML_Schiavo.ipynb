{
  "nbformat": 4,
  "nbformat_minor": 0,
  "metadata": {
    "colab": {
      "provenance": [],
      "collapsed_sections": [],
      "toc_visible": true
    },
    "kernelspec": {
      "name": "python3",
      "display_name": "Python 3"
    },
    "language_info": {
      "name": "python"
    },
    "accelerator": "GPU",
    "gpuClass": "standard"
  },
  "cells": [
    {
      "cell_type": "markdown",
      "source": [
        "# Libraries and Dataset"
      ],
      "metadata": {
        "id": "Xr7AmkkjNSNH"
      }
    },
    {
      "cell_type": "markdown",
      "source": [
        "## Libraries"
      ],
      "metadata": {
        "id": "tbNYPRbwqEw_"
      }
    },
    {
      "cell_type": "code",
      "source": [
        "#Generical libraries\n",
        "import numpy as np\n",
        "import matplotlib.pyplot as plt\n",
        "import time\n",
        "import itertools\n",
        "from prettytable import PrettyTable\n",
        "\n",
        "#Loading, preprocessing and splitting the dataset\n",
        "from urllib.request import urlopen\n",
        "from collections import Counter\n",
        "from sklearn.utils import shuffle\n",
        "from sklearn.model_selection import train_test_split\n",
        "from sklearn.preprocessing import MinMaxScaler\n",
        "from sklearn.preprocessing import StandardScaler\n",
        "\n",
        "#Perceptron \n",
        "from sklearn.linear_model import Perceptron\n",
        "from sklearn.multiclass import OneVsOneClassifier\n",
        "\n",
        "#Decision Tree and Random Forest\n",
        "from sklearn.model_selection import GridSearchCV\n",
        "from sklearn import tree\n",
        "from sklearn.ensemble import RandomForestClassifier\n",
        "from sklearn.metrics import confusion_matrix, ConfusionMatrixDisplay \n",
        "\n",
        "#Support Vector Machine (SVM)\n",
        "from sklearn import svm\n",
        "\n",
        "#Neural Network (NN)\n",
        "import tensorflow\n",
        "from tensorflow.keras.layers import Input, Dense, Dropout\n",
        "from tensorflow.keras.utils import to_categorical \n",
        "from tensorflow.python.framework.random_seed import set_random_seed\n",
        "from tensorflow.keras.models import Sequential \n",
        "from keras.utils.vis_utils import plot_model\n",
        "from keras.callbacks import EarlyStopping\n",
        "\n",
        "#K-Nearest Neighbour (kNN)\n",
        "from sklearn.neighbors import KNeighborsClassifier\n",
        "\n",
        "#Metrics\n",
        "from sklearn.metrics import f1_score\n",
        "from sklearn.metrics import accuracy_score"
      ],
      "metadata": {
        "id": "YoE_CUB1KVPK"
      },
      "execution_count": 40,
      "outputs": []
    },
    {
      "cell_type": "markdown",
      "source": [
        "## Loading Data"
      ],
      "metadata": {
        "id": "89faoISTqIBE"
      }
    },
    {
      "cell_type": "markdown",
      "source": [
        "Loading and splitting the dataset into train, val and test set: 50000, 10000 and 10000 images respectively. The small dataset is splitted into 10000, 2000 and 2000 examples. "
      ],
      "metadata": {
        "id": "GfWWzkZ9Ncdy"
      }
    },
    {
      "cell_type": "code",
      "metadata": {
        "id": "490C2OoPs4PX"
      },
      "source": [
        "#Loading the data\n",
        "def load_fashion_mnist():\n",
        "    url_base = \"https://www.math.unipd.it/~dasan/\"\n",
        "    Y_train_original = np.frombuffer(urlopen(url_base + \"train-labels-idx1-ubyte\").read(),dtype=np.uint8, offset=8)\n",
        "    X_train_original = np.frombuffer(urlopen(url_base + \"train-images-idx3-ubyte\").read(),\n",
        "                                     dtype=np.uint8, offset=16).reshape(len(Y_train_original), 784)                                                                                         \n",
        "    X_train ,X_val, Y_train, Y_val = train_test_split(X_train_original, Y_train_original, test_size=0.166666, random_state=42)\n",
        "    Y_test = np.frombuffer(urlopen(url_base + \"t10k-labels-idx1-ubyte\").read(),dtype=np.uint8, offset=8)\n",
        "    X_test = np.frombuffer(urlopen(url_base + \"t10k-images-idx3-ubyte\").read(), dtype=np.uint8, offset=16).reshape(len(Y_test), 784)\n",
        "    \n",
        "    return X_train_original, Y_train_original, X_train, Y_train, X_val, Y_val, X_test, Y_test\n",
        "\n",
        "#Creating a reduced version of the dataset (small dataset) to speed up the search of hyperparameters\n",
        "def reduce_dataset(X_train, Y_train, X_val, Y_val, X_test, Y_test,coef=0.2):\n",
        "    _, X_train_small, _, Y_train_small  = train_test_split(X_train, Y_train, test_size=coef, random_state=42)\n",
        "    _, X_val_small, _ , Y_val_small  = train_test_split(X_val, Y_val, test_size=coef, random_state=42)\n",
        "    _, X_test_small, _ ,Y_test_small = train_test_split(X_test, Y_test, test_size=coef, random_state=42)\n",
        "    return X_train_small, Y_train_small, X_val_small, Y_val_small, X_test_small, Y_test_small"
      ],
      "execution_count": 41,
      "outputs": []
    },
    {
      "cell_type": "code",
      "metadata": {
        "id": "CPzMfoAKxhxQ"
      },
      "source": [
        "X_train_original, Y_train_original,X_train, Y_train, X_val, Y_val, X_test, Y_test = load_fashion_mnist() \n",
        "X_train_small, Y_train_small, X_val_small, Y_val_small, X_test_small, Y_test_small = reduce_dataset(X_train,Y_train, X_val, Y_val, X_test, Y_test,coef=0.2)"
      ],
      "execution_count": 42,
      "outputs": []
    },
    {
      "cell_type": "markdown",
      "source": [
        "## Preprocessing: MinMax and Standard Scaler"
      ],
      "metadata": {
        "id": "CL30HuRyqNqh"
      }
    },
    {
      "cell_type": "markdown",
      "source": [
        "Creating two new dataset by preprocessing: the first with MinMax and the second standardizing. Thus the first dataset is now rescaled to [0,1] and the second is distributed as a Gaussian with mean 0 and variance 1. "
      ],
      "metadata": {
        "id": "8p81B9rWmY-R"
      }
    },
    {
      "cell_type": "code",
      "source": [
        "#training, validation and test sets rescaled in [0,1] values (wrt the training set)\n",
        "minmax_scale=MinMaxScaler().fit(X_train)\n",
        "X_train_minmax=minmax_scale.transform(X_train)\n",
        "X_val_minmax=minmax_scale.transform(X_val)\n",
        "X_test_minmax=minmax_scale.transform(X_test)\n",
        "\n",
        "#training, validation and test sets rescaled in [0,1] values (wrt the training set) small version\n",
        "minmax_scale_small=MinMaxScaler().fit(X_train)\n",
        "X_train_small_minmax=minmax_scale.transform(X_train_small)\n",
        "X_val_small_minmax=minmax_scale.transform(X_val_small)\n",
        "X_test_small_minmax=minmax_scale.transform(X_test_small)\n",
        "\n",
        "#training, validation and test sets rescaled with 0 mean 1 std (wrt the training set)\n",
        "standard=StandardScaler().fit(X_train)\n",
        "X_train_standard=standard.transform(X_train)\n",
        "X_val_standard=standard.transform(X_val)\n",
        "X_test_standard=standard.transform(X_test)\n",
        "\n",
        "#training, validation and test sets rescaled with 0 mean 1 std (wrt the training set) small version\n",
        "standard_small=StandardScaler().fit(X_train_small)\n",
        "X_train_small_standard=standard_small.transform(X_train_small)\n",
        "X_val_small_standard=standard_small.transform(X_val_small)\n",
        "X_test_small_standard=standard_small.transform(X_test_small)"
      ],
      "metadata": {
        "id": "bQm_DPtJkmQ7"
      },
      "execution_count": 43,
      "outputs": []
    },
    {
      "cell_type": "markdown",
      "source": [
        "It is appropriate to recall all the data we just created."
      ],
      "metadata": {
        "id": "zsheuEcUyT7S"
      }
    },
    {
      "cell_type": "code",
      "source": [
        "'''\n",
        "X_train_original #original training set of 60000 examples\n",
        "Y_train_original #original labels of the original training set\n",
        "X_train #training set we are going to use of 50000 examples\n",
        "Y_train #labesl of X_train \n",
        "X_val #validation set of 10000 examples, used to find the optimal hyperparameters\n",
        "Y_val\n",
        "X_test #final test set, the original one, provided by Zalando, of 10000 examples\n",
        "Y_test\n",
        "X_train_minmax #minmax scaled \n",
        "X_val_minmax\n",
        "X_test_minmax\n",
        "X_train_standard #standard scaled\n",
        "X_val_standard\n",
        "X_test_standard\n",
        "X_train_small #small version of the training set of 10000 examples\n",
        "Y_train_small\n",
        "X_val_small\n",
        "Y_val_small\n",
        "X_test_small\n",
        "Y_test_small\n",
        "X_train_small_minmax\n",
        "X_val_small_minmax\n",
        "X_test_small_minmax\n",
        "X_train_small_standard\n",
        "X_val_small_standard\n",
        "X_test_small_standard\n",
        "'''"
      ],
      "metadata": {
        "colab": {
          "base_uri": "https://localhost:8080/",
          "height": 122
        },
        "id": "IrMo_PfRyMFx",
        "outputId": "53de7e08-2731-4d15-9c51-a233c579c590"
      },
      "execution_count": 44,
      "outputs": [
        {
          "output_type": "execute_result",
          "data": {
            "text/plain": [
              "'\\nX_train_original #original training set of 60000 examples\\nY_train_original #original labels of the original training set\\nX_train #training set we are going to use of 50000 examples\\nY_train #labesl of X_train \\nX_val #validation set of 10000 examples, used to find the optimal hyperparameters\\nY_val\\nX_test #final test set, the original one, provided by Zalando, of 10000 examples\\nY_test\\nX_train_minmax #minmax scaled \\nX_val_minmax\\nX_test_minmax\\nX_train_standard #standard scaled\\nX_val_standard\\nX_test_standard\\nX_train_small #small version of the training set of 10000 examples\\nY_train_small\\nX_val_small\\nY_val_small\\nX_test_small\\nY_test_small\\nX_train_small_minmax\\nX_val_small_minmax\\nX_test_small_minmax\\nX_train_small_standard\\nX_val_small_standard\\nX_test_small_standard\\n'"
            ],
            "application/vnd.google.colaboratory.intrinsic+json": {
              "type": "string"
            }
          },
          "metadata": {},
          "execution_count": 44
        }
      ]
    },
    {
      "cell_type": "markdown",
      "source": [
        "## Statistical Analysis"
      ],
      "metadata": {
        "id": "79x1QAayqT8W"
      }
    },
    {
      "cell_type": "markdown",
      "source": [
        "A bit of analysis of the dataset: shapes, summary of statistics, some pictures. We can see that the classes are quite balanced, in origin the classes were perfectly balanced, we reshuffled the dataset and then splitted it so we lost the perfectly balanced property of the classe (but they are still almost perfectly balanced). "
      ],
      "metadata": {
        "id": "B8iZ5VKPm4y2"
      }
    },
    {
      "cell_type": "code",
      "source": [
        "print(\"Shapes of original sets: %s\" %[X_train_original.shape, Y_train_original.shape, X_test.shape, Y_test.shape])\n",
        "print(\"Shapes of the training, validadtion and test sets: %s\" %[X_train.shape, Y_train.shape, X_val.shape, Y_val.shape, X_test.shape, Y_test.shape])\n",
        "print(\"Shapes of the smaller sets: %s\" %[X_train_small.shape, Y_train_small.shape, X_val_small.shape, Y_val_small.shape, X_test_small.shape, Y_test_small.shape])\n",
        "\n",
        "#value of the data\n",
        "print(f\"Min of the first example: {X_train[0].min()}\")\n",
        "print(f\"Max of the first example: {X_train[0].max()}\")\n",
        "print(f\"Mean of the first example: {X_train[0].mean():.5f}\")\n",
        "means=[]\n",
        "for x in X_train:\n",
        "  means.append(x.mean())\n",
        "means=np.array(means)\n",
        "print(f\"Means of pixels over the training set: {means.mean():.5f}\")\n",
        "#grayscale goes from 0 to 255\n",
        "\n",
        "labels_name={\n",
        "    0:'T-shirt/top',\n",
        "    1:'Trouser',\n",
        "    2:'Pullover',\n",
        "    3:'Dress',\n",
        "    4:'Coat',\n",
        "    5:'Sandal',\n",
        "    6:'Shirt',\n",
        "    7:'Sneaker',\n",
        "    8:'Bag',\n",
        "    9:'Ankle boot'\n",
        "}\n",
        "\n",
        "\n",
        "print(\"How many examples are in each class, couple (class, number of example):\")\n",
        "for dataset in [Y_train,Y_val, Y_test, Y_train_original]: #classes are quite balanced, the original one were perfectly balanced\n",
        "  a=list(Counter(dataset).items())\n",
        "  a.sort(key=lambda x: x[0], reverse=False)\n",
        "  print(a)\n",
        "\n",
        "\n",
        "_, axes = plt.subplots(nrows=1, ncols=10, figsize=(30, 9)) #first 10 data from the training set\n",
        "for ax, x, label in zip(axes,X_train[0:10], Y_train[0:10]):\n",
        "  ax.set_axis_off()\n",
        "  X_image=x.reshape(28,28)\n",
        "  ax.imshow(X_image, cmap=plt.cm.gray_r, interpolation=\"nearest\")\n",
        "  ax.set_title(\"%s\" % labels_name[label])"
      ],
      "metadata": {
        "id": "hJJwofYgKeiM",
        "colab": {
          "base_uri": "https://localhost:8080/",
          "height": 345
        },
        "outputId": "7f68e453-a047-40f7-814d-8fb2eb842adb"
      },
      "execution_count": 45,
      "outputs": [
        {
          "output_type": "stream",
          "name": "stdout",
          "text": [
            "Shapes of original sets: [(60000, 784), (60000,), (10000, 784), (10000,)]\n",
            "Shapes of the training, validadtion and test sets: [(50000, 784), (50000,), (10000, 784), (10000,), (10000, 784), (10000,)]\n",
            "Shapes of the smaller sets: [(10000, 784), (10000,), (2000, 784), (2000,), (2000, 784), (2000,)]\n",
            "Min of the first example: 0\n",
            "Max of the first example: 255\n",
            "Mean of the first example: 32.06505\n",
            "Means of pixels over the training set: 72.89299\n",
            "How many examples are in each class, couple (class, number of example):\n",
            "[(0, 4991), (1, 4998), (2, 5003), (3, 4992), (4, 5003), (5, 4985), (6, 4984), (7, 5053), (8, 4999), (9, 4992)]\n",
            "[(0, 1009), (1, 1002), (2, 997), (3, 1008), (4, 997), (5, 1015), (6, 1016), (7, 947), (8, 1001), (9, 1008)]\n",
            "[(0, 1000), (1, 1000), (2, 1000), (3, 1000), (4, 1000), (5, 1000), (6, 1000), (7, 1000), (8, 1000), (9, 1000)]\n",
            "[(0, 6000), (1, 6000), (2, 6000), (3, 6000), (4, 6000), (5, 6000), (6, 6000), (7, 6000), (8, 6000), (9, 6000)]\n"
          ]
        },
        {
          "output_type": "display_data",
          "data": {
            "text/plain": [
              "<Figure size 2160x648 with 10 Axes>"
            ],
            "image/png": "[encoded data removed]"
          },
          "metadata": {
            "needs_background": "light"
          }
        }
      ]
    },
    {
      "cell_type": "markdown",
      "source": [
        "# Perceptron\n"
      ],
      "metadata": {
        "id": "dRFXLrJVjdfn"
      }
    },
    {
      "cell_type": "code",
      "source": [
        "def perc_function(small=True,preprocessing=False,learning_rate=1.0,on_test_set=False):\n",
        "\n",
        "  start_time_perc=time.time()\n",
        "  accuracy_values_train = []\n",
        "  accuracy_values_val = []\n",
        "  accuracy_values_test = []\n",
        "\n",
        "  if small==True and preprocessing==False:\n",
        "    clf_perc_small = OneVsOneClassifier(Perceptron(eta0=learning_rate,fit_intercept=True,random_state=123))\n",
        "    clf_perc_small.fit(X_train_small, Y_train_small)\n",
        "    y_pred_train_perc = clf_perc_small.predict(X_train_small)\n",
        "    y_pred_val_perc = clf_perc_small.predict(X_val_small)\n",
        "    accuracy_values_train.append(accuracy_score(Y_train_small, y_pred_train_perc)) \n",
        "    accuracy_values_val.append(accuracy_score(Y_val_small, y_pred_val_perc)) \n",
        "    if on_test_set==True:\n",
        "      accuracy_values_test.append(accuracy_score(Y_test_small, y_pred_test_perc))\n",
        "      y_pred_test_perc = clf_perc_small.predict(X_test_small)\n",
        "    print(f\"One-vs-One Perceptron classifier\")\n",
        "\n",
        "  if small == True and preprocessing==\"Standard\":\n",
        "    clf_perc_small_standard = OneVsOneClassifier(Perceptron(eta0=learning_rate,fit_intercept=True,random_state=123))\n",
        "    clf_perc_small_standard.fit(X_train_small_standard, Y_train_small)\n",
        "    y_pred_train_perc_standard = clf_perc_small_standard.predict(X_train_small_standard)\n",
        "    y_pred_val_perc_standard = clf_perc_small_standard.predict(X_val_small_standard)\n",
        "    accuracy_values_train.append(accuracy_score(Y_train_small, y_pred_train_perc_standard)) \n",
        "    accuracy_values_val.append(accuracy_score(Y_val_small, y_pred_val_perc_standard)) \n",
        "    if on_test_set==True:\n",
        "      y_pred_test_perc_standard = clf_perc_small_standard.predict(X_test_small_standard)\n",
        "      accuracy_values_test.append(accuracy_score(Y_test_small, y_pred_test_perc_standard))\n",
        "    print(f\"One-vs-One Perceptron classifier with standardized data\")\n",
        "\n",
        "  if small == True and preprocessing==\"MinMax\":\n",
        "    clf_perc_small_minmax = OneVsOneClassifier(Perceptron(eta0=learning_rate,fit_intercept=True,random_state=123))\n",
        "    clf_perc_small_minmax.fit(X_train_small_minmax, Y_train_small)\n",
        "    y_pred_train_perc_minmax = clf_perc_small_minmax.predict(X_train_small_minmax)\n",
        "    y_pred_val_perc_minmax = clf_perc_small_minmax.predict(X_val_small_minmax)\n",
        "    accuracy_values_train.append(accuracy_score(Y_train_small, y_pred_train_perc_minmax)) \n",
        "    accuracy_values_val.append(accuracy_score(Y_val_small, y_pred_val_perc_minmax)) \n",
        "    if on_test_set==True:\n",
        "      y_pred_test_perc_minmax = clf_perc_small_minmax.predict(X_test_small_minmax)\n",
        "      accuracy_values_test.append(accuracy_score(Y_test_small, y_pred_test_perc_minmax))\n",
        "    print(f\"One-vs-One Perceptron classifier with MinMax scaled data\")\n",
        "\n",
        "  if small==False and preprocessing==False:\n",
        "    clf_perc = OneVsOneClassifier(Perceptron(eta0=learning_rate,fit_intercept=True,random_state=123))\n",
        "    clf_perc.fit(X_train, Y_train)\n",
        "    y_pred_train_perc = clf_perc.predict(X_train)\n",
        "    y_pred_val_perc = clf_perc.predict(X_val)\n",
        "    accuracy_values_train.append(accuracy_score(Y_train, y_pred_train_perc)) \n",
        "    accuracy_values_val.append(accuracy_score(Y_val, y_pred_val_perc)) \n",
        "    if on_test_set==True:\n",
        "      y_pred_test_perc = clf_perc.predict(X_test)\n",
        "      accuracy_values_test.append(accuracy_score(Y_test, y_pred_test_perc))\n",
        "    print(f\"One-vs-One Perceptron classifier\")\n",
        "\n",
        "  if small == False and preprocessing==\"Standard\":\n",
        "    clf_perc_standard = OneVsOneClassifier(Perceptron(eta0=learning_rate,fit_intercept=True,random_state=123))\n",
        "    clf_perc_standard.fit(X_train_standard, Y_train)\n",
        "    y_pred_train_perc_standard = clf_perc_standard.predict(X_train_standard)\n",
        "    y_pred_val_perc_standard = clf_perc_standard.predict(X_val_standard)\n",
        "    accuracy_values_train.append(accuracy_score(Y_train, y_pred_train_perc_standard)) \n",
        "    accuracy_values_val.append(accuracy_score(Y_val, y_pred_val_perc_standard)) \n",
        "    if on_test_set==True:\n",
        "      y_pred_test_perc_standard = clf_perc_standard.predict(X_test_standard)\n",
        "      accuracy_values_test.append(accuracy_score(Y_test, y_pred_test_perc_standard))\n",
        "    print(f\"One-vs-One Perceptron classifier with standardized data\")\n",
        "\n",
        "  if small == False and preprocessing==\"MinMax\":\n",
        "    clf_perc_minmax = OneVsOneClassifier(Perceptron(eta0=learning_rate,fit_intercept=True,random_state=123))\n",
        "    clf_perc_minmax.fit(X_train_minmax, Y_train)\n",
        "    y_pred_train_perc_minmax = clf_perc_minmax.predict(X_train_minmax)\n",
        "    y_pred_val_perc_minmax = clf_perc_minmax.predict(X_val_minmax)\n",
        "    accuracy_values_train.append(accuracy_score(Y_train, y_pred_train_perc_minmax)) \n",
        "    accuracy_values_val.append(accuracy_score(Y_val, y_pred_val_perc_minmax)) \n",
        "    if on_test_set==True:\n",
        "      y_pred_test_perc_minmax = clf_perc_minmax.predict(X_test_minmax)\n",
        "      accuracy_values_test.append(accuracy_score(Y_test, y_pred_test_perc_minmax))\n",
        "    print(f\"One-vs-One Perceptron classifier with MinMax scaled data\")\n",
        "\n",
        "  end_time_perc = time.time()\n",
        "  print(\"Execution time: {:.5f}\".format(end_time_perc-start_time_perc))\n",
        "\n",
        "  return accuracy_values_train + accuracy_values_val + accuracy_values_test\n"
      ],
      "metadata": {
        "id": "LVGwCm7icnie"
      },
      "execution_count": null,
      "outputs": []
    },
    {
      "cell_type": "markdown",
      "source": [
        "## Perceptron grid search on small dataset"
      ],
      "metadata": {
        "id": "r_jdSi2yK73r"
      }
    },
    {
      "cell_type": "code",
      "source": [
        "acc_train=0\n",
        "acc_val=0\n",
        "accuracy_test=[]\n",
        "optimal_hyperparameters=[]\n",
        "it_counter=0\n",
        "\n",
        "results_perc=dict()\n",
        "start_cycle_for=time.time()\n",
        "for lr in [0.001,0.002,0.003,0.01,0.02,0.09,0.1,0.11,0.2,0.3,0.4,0.5,0.6,0.8,1.0]:\n",
        "    for prep in [False, \"Standard\", \"MinMax\"]:\n",
        "      print(\"Iteration number: {}\".format(it_counter+1))\n",
        "      print(\"Following iteration is with learning rate: %s, small: %s, preprocessing: %s, on_test_set: %s\" %(lr,True,prep,False))\n",
        "      result=perc_function(learning_rate=lr,small=True,preprocessing=prep,on_test_set=False)\n",
        "      print(\"The last iteration's result is: train accuracy = %s, validation accuracy = %s\" %(result[0],result[1]))\n",
        "      if result[1] > acc_val:\n",
        "        acc_val = result[1]\n",
        "        acc_train = result[0]\n",
        "        optimal_hyperparameters = [lr,prep]\n",
        "        print(\"Optimal hyperparameters adjusted!\")\n",
        "\n",
        "      it_counter=it_counter+1\n",
        "      results_perc[(lr,True,prep,False)]=result\n",
        "      print(\"-----------------------------------------------------------------------------------------------------------\")\n",
        "\n",
        "end_cycle_for=time.time()\n",
        "print(results_perc)\n",
        "print(\"Optimal parameters are learning rate: {} and preprocessing: {}\".format(optimal_hyperparameters[0],optimal_hyperparameters[1]))\n",
        "print(\"The optimal parameters produce accuracy train: {} and accuracy validation: {}\".format(acc_train,acc_val))\n",
        "total_execution_time=end_cycle_for-start_cycle_for\n",
        "print(\"Total Execution time: {:.5f}\".format(total_execution_time))"
      ],
      "metadata": {
        "id": "D_a5v_HVj0YA",
        "colab": {
          "base_uri": "https://localhost:8080/"
        },
        "outputId": "83a42fb6-b22e-4023-8d4a-11bef1eff04a"
      },
      "execution_count": null,
      "outputs": [
        {
          "output_type": "stream",
          "name": "stdout",
          "text": [
            "Iteration number: 1\n",
            "Following iteration is with learning rate: 0.001, small: True, preprocessing: False, on_test_set: False\n",
            "One-vs-One Perceptron classifier\n",
            "Execution time: 4.16921\n",
            "The last iteration's result is: train accuracy = 0.8459, validation accuracy = 0.794\n",
            "Optimal hyperparameters adjusted!\n",
            "-----------------------------------------------------------------------------------------------------------\n",
            "Iteration number: 2\n",
            "Following iteration is with learning rate: 0.001, small: True, preprocessing: Standard, on_test_set: False\n",
            "One-vs-One Perceptron classifier with standardized data\n",
            "Execution time: 2.60157\n",
            "The last iteration's result is: train accuracy = 0.9063, validation accuracy = 0.8135\n",
            "Optimal hyperparameters adjusted!\n",
            "-----------------------------------------------------------------------------------------------------------\n",
            "Iteration number: 3\n",
            "Following iteration is with learning rate: 0.001, small: True, preprocessing: MinMax, on_test_set: False\n",
            "One-vs-One Perceptron classifier with MinMax scaled data\n",
            "Execution time: 2.39491\n",
            "The last iteration's result is: train accuracy = 0.8304, validation accuracy = 0.803\n",
            "-----------------------------------------------------------------------------------------------------------\n",
            "Iteration number: 4\n",
            "Following iteration is with learning rate: 0.002, small: True, preprocessing: False, on_test_set: False\n",
            "One-vs-One Perceptron classifier\n",
            "Execution time: 4.20260\n",
            "The last iteration's result is: train accuracy = 0.8459, validation accuracy = 0.794\n",
            "-----------------------------------------------------------------------------------------------------------\n",
            "Iteration number: 5\n",
            "Following iteration is with learning rate: 0.002, small: True, preprocessing: Standard, on_test_set: False\n",
            "One-vs-One Perceptron classifier with standardized data\n",
            "Execution time: 2.89703\n",
            "The last iteration's result is: train accuracy = 0.9155, validation accuracy = 0.814\n",
            "Optimal hyperparameters adjusted!\n",
            "-----------------------------------------------------------------------------------------------------------\n",
            "Iteration number: 6\n",
            "Following iteration is with learning rate: 0.002, small: True, preprocessing: MinMax, on_test_set: False\n",
            "One-vs-One Perceptron classifier with MinMax scaled data\n",
            "Execution time: 2.48559\n",
            "The last iteration's result is: train accuracy = 0.8324, validation accuracy = 0.785\n",
            "-----------------------------------------------------------------------------------------------------------\n",
            "Iteration number: 7\n",
            "Following iteration is with learning rate: 0.003, small: True, preprocessing: False, on_test_set: False\n",
            "One-vs-One Perceptron classifier\n",
            "Execution time: 4.27803\n",
            "The last iteration's result is: train accuracy = 0.8459, validation accuracy = 0.794\n",
            "-----------------------------------------------------------------------------------------------------------\n",
            "Iteration number: 8\n",
            "Following iteration is with learning rate: 0.003, small: True, preprocessing: Standard, on_test_set: False\n",
            "One-vs-One Perceptron classifier with standardized data\n",
            "Execution time: 3.11593\n",
            "The last iteration's result is: train accuracy = 0.9099, validation accuracy = 0.811\n",
            "-----------------------------------------------------------------------------------------------------------\n",
            "Iteration number: 9\n",
            "Following iteration is with learning rate: 0.003, small: True, preprocessing: MinMax, on_test_set: False\n",
            "One-vs-One Perceptron classifier with MinMax scaled data\n",
            "Execution time: 2.60503\n",
            "The last iteration's result is: train accuracy = 0.8613, validation accuracy = 0.8045\n",
            "-----------------------------------------------------------------------------------------------------------\n",
            "Iteration number: 10\n",
            "Following iteration is with learning rate: 0.01, small: True, preprocessing: False, on_test_set: False\n",
            "One-vs-One Perceptron classifier\n",
            "Execution time: 4.17637\n",
            "The last iteration's result is: train accuracy = 0.8459, validation accuracy = 0.794\n",
            "-----------------------------------------------------------------------------------------------------------\n",
            "Iteration number: 11\n",
            "Following iteration is with learning rate: 0.01, small: True, preprocessing: Standard, on_test_set: False\n",
            "One-vs-One Perceptron classifier with standardized data\n",
            "Execution time: 3.19667\n",
            "The last iteration's result is: train accuracy = 0.9274, validation accuracy = 0.813\n",
            "-----------------------------------------------------------------------------------------------------------\n",
            "Iteration number: 12\n",
            "Following iteration is with learning rate: 0.01, small: True, preprocessing: MinMax, on_test_set: False\n",
            "One-vs-One Perceptron classifier with MinMax scaled data\n",
            "Execution time: 2.87450\n",
            "The last iteration's result is: train accuracy = 0.8896, validation accuracy = 0.817\n",
            "Optimal hyperparameters adjusted!\n",
            "-----------------------------------------------------------------------------------------------------------\n",
            "Iteration number: 13\n",
            "Following iteration is with learning rate: 0.02, small: True, preprocessing: False, on_test_set: False\n",
            "One-vs-One Perceptron classifier\n",
            "Execution time: 4.67017\n",
            "The last iteration's result is: train accuracy = 0.8459, validation accuracy = 0.794\n",
            "-----------------------------------------------------------------------------------------------------------\n",
            "Iteration number: 14\n",
            "Following iteration is with learning rate: 0.02, small: True, preprocessing: Standard, on_test_set: False\n",
            "One-vs-One Perceptron classifier with standardized data\n",
            "Execution time: 3.53442\n",
            "The last iteration's result is: train accuracy = 0.9275, validation accuracy = 0.814\n",
            "-----------------------------------------------------------------------------------------------------------\n",
            "Iteration number: 15\n",
            "Following iteration is with learning rate: 0.02, small: True, preprocessing: MinMax, on_test_set: False\n",
            "One-vs-One Perceptron classifier with MinMax scaled data\n",
            "Execution time: 2.99821\n",
            "The last iteration's result is: train accuracy = 0.8906, validation accuracy = 0.816\n",
            "-----------------------------------------------------------------------------------------------------------\n",
            "Iteration number: 16\n",
            "Following iteration is with learning rate: 0.09, small: True, preprocessing: False, on_test_set: False\n",
            "One-vs-One Perceptron classifier\n",
            "Execution time: 4.19713\n",
            "The last iteration's result is: train accuracy = 0.8459, validation accuracy = 0.794\n",
            "-----------------------------------------------------------------------------------------------------------\n",
            "Iteration number: 17\n",
            "Following iteration is with learning rate: 0.09, small: True, preprocessing: Standard, on_test_set: False\n",
            "One-vs-One Perceptron classifier with standardized data\n",
            "Execution time: 3.38279\n",
            "The last iteration's result is: train accuracy = 0.9275, validation accuracy = 0.814\n",
            "-----------------------------------------------------------------------------------------------------------\n",
            "Iteration number: 18\n",
            "Following iteration is with learning rate: 0.09, small: True, preprocessing: MinMax, on_test_set: False\n",
            "One-vs-One Perceptron classifier with MinMax scaled data\n",
            "Execution time: 3.17834\n",
            "The last iteration's result is: train accuracy = 0.8921, validation accuracy = 0.8145\n",
            "-----------------------------------------------------------------------------------------------------------\n",
            "Iteration number: 19\n",
            "Following iteration is with learning rate: 0.1, small: True, preprocessing: False, on_test_set: False\n",
            "One-vs-One Perceptron classifier\n",
            "Execution time: 4.07833\n",
            "The last iteration's result is: train accuracy = 0.8459, validation accuracy = 0.794\n",
            "-----------------------------------------------------------------------------------------------------------\n",
            "Iteration number: 20\n",
            "Following iteration is with learning rate: 0.1, small: True, preprocessing: Standard, on_test_set: False\n",
            "One-vs-One Perceptron classifier with standardized data\n",
            "Execution time: 3.32940\n",
            "The last iteration's result is: train accuracy = 0.9275, validation accuracy = 0.814\n",
            "-----------------------------------------------------------------------------------------------------------\n",
            "Iteration number: 21\n",
            "Following iteration is with learning rate: 0.1, small: True, preprocessing: MinMax, on_test_set: False\n",
            "One-vs-One Perceptron classifier with MinMax scaled data\n",
            "Execution time: 3.20376\n",
            "The last iteration's result is: train accuracy = 0.8921, validation accuracy = 0.8145\n",
            "-----------------------------------------------------------------------------------------------------------\n",
            "Iteration number: 22\n",
            "Following iteration is with learning rate: 0.11, small: True, preprocessing: False, on_test_set: False\n",
            "One-vs-One Perceptron classifier\n",
            "Execution time: 4.13614\n",
            "The last iteration's result is: train accuracy = 0.8459, validation accuracy = 0.794\n",
            "-----------------------------------------------------------------------------------------------------------\n",
            "Iteration number: 23\n",
            "Following iteration is with learning rate: 0.11, small: True, preprocessing: Standard, on_test_set: False\n",
            "One-vs-One Perceptron classifier with standardized data\n",
            "Execution time: 3.31112\n",
            "The last iteration's result is: train accuracy = 0.9275, validation accuracy = 0.814\n",
            "-----------------------------------------------------------------------------------------------------------\n",
            "Iteration number: 24\n",
            "Following iteration is with learning rate: 0.11, small: True, preprocessing: MinMax, on_test_set: False\n",
            "One-vs-One Perceptron classifier with MinMax scaled data\n",
            "Execution time: 3.21816\n",
            "The last iteration's result is: train accuracy = 0.8921, validation accuracy = 0.8145\n",
            "-----------------------------------------------------------------------------------------------------------\n",
            "Iteration number: 25\n",
            "Following iteration is with learning rate: 0.2, small: True, preprocessing: False, on_test_set: False\n",
            "One-vs-One Perceptron classifier\n",
            "Execution time: 4.32123\n",
            "The last iteration's result is: train accuracy = 0.8459, validation accuracy = 0.794\n",
            "-----------------------------------------------------------------------------------------------------------\n",
            "Iteration number: 26\n",
            "Following iteration is with learning rate: 0.2, small: True, preprocessing: Standard, on_test_set: False\n",
            "One-vs-One Perceptron classifier with standardized data\n",
            "Execution time: 3.38918\n",
            "The last iteration's result is: train accuracy = 0.9275, validation accuracy = 0.814\n",
            "-----------------------------------------------------------------------------------------------------------\n",
            "Iteration number: 27\n",
            "Following iteration is with learning rate: 0.2, small: True, preprocessing: MinMax, on_test_set: False\n",
            "One-vs-One Perceptron classifier with MinMax scaled data\n",
            "Execution time: 3.24807\n",
            "The last iteration's result is: train accuracy = 0.8921, validation accuracy = 0.8145\n",
            "-----------------------------------------------------------------------------------------------------------\n",
            "Iteration number: 28\n",
            "Following iteration is with learning rate: 0.3, small: True, preprocessing: False, on_test_set: False\n",
            "One-vs-One Perceptron classifier\n",
            "Execution time: 4.16330\n",
            "The last iteration's result is: train accuracy = 0.8459, validation accuracy = 0.794\n",
            "-----------------------------------------------------------------------------------------------------------\n",
            "Iteration number: 29\n",
            "Following iteration is with learning rate: 0.3, small: True, preprocessing: Standard, on_test_set: False\n",
            "One-vs-One Perceptron classifier with standardized data\n",
            "Execution time: 3.38665\n",
            "The last iteration's result is: train accuracy = 0.9275, validation accuracy = 0.814\n",
            "-----------------------------------------------------------------------------------------------------------\n",
            "Iteration number: 30\n",
            "Following iteration is with learning rate: 0.3, small: True, preprocessing: MinMax, on_test_set: False\n",
            "One-vs-One Perceptron classifier with MinMax scaled data\n",
            "Execution time: 3.31029\n",
            "The last iteration's result is: train accuracy = 0.8928, validation accuracy = 0.8155\n",
            "-----------------------------------------------------------------------------------------------------------\n",
            "Iteration number: 31\n",
            "Following iteration is with learning rate: 0.4, small: True, preprocessing: False, on_test_set: False\n",
            "One-vs-One Perceptron classifier\n",
            "Execution time: 4.15039\n",
            "The last iteration's result is: train accuracy = 0.8459, validation accuracy = 0.794\n",
            "-----------------------------------------------------------------------------------------------------------\n",
            "Iteration number: 32\n",
            "Following iteration is with learning rate: 0.4, small: True, preprocessing: Standard, on_test_set: False\n",
            "One-vs-One Perceptron classifier with standardized data\n",
            "Execution time: 3.32925\n",
            "The last iteration's result is: train accuracy = 0.9275, validation accuracy = 0.814\n",
            "-----------------------------------------------------------------------------------------------------------\n",
            "Iteration number: 33\n",
            "Following iteration is with learning rate: 0.4, small: True, preprocessing: MinMax, on_test_set: False\n",
            "One-vs-One Perceptron classifier with MinMax scaled data\n",
            "Execution time: 3.28603\n",
            "The last iteration's result is: train accuracy = 0.8928, validation accuracy = 0.8155\n",
            "-----------------------------------------------------------------------------------------------------------\n",
            "Iteration number: 34\n",
            "Following iteration is with learning rate: 0.5, small: True, preprocessing: False, on_test_set: False\n",
            "One-vs-One Perceptron classifier\n",
            "Execution time: 4.24305\n",
            "The last iteration's result is: train accuracy = 0.8459, validation accuracy = 0.794\n",
            "-----------------------------------------------------------------------------------------------------------\n",
            "Iteration number: 35\n",
            "Following iteration is with learning rate: 0.5, small: True, preprocessing: Standard, on_test_set: False\n",
            "One-vs-One Perceptron classifier with standardized data\n",
            "Execution time: 3.37105\n",
            "The last iteration's result is: train accuracy = 0.9275, validation accuracy = 0.814\n",
            "-----------------------------------------------------------------------------------------------------------\n",
            "Iteration number: 36\n",
            "Following iteration is with learning rate: 0.5, small: True, preprocessing: MinMax, on_test_set: False\n",
            "One-vs-One Perceptron classifier with MinMax scaled data\n",
            "Execution time: 3.23324\n",
            "The last iteration's result is: train accuracy = 0.8928, validation accuracy = 0.8155\n",
            "-----------------------------------------------------------------------------------------------------------\n",
            "Iteration number: 37\n",
            "Following iteration is with learning rate: 0.6, small: True, preprocessing: False, on_test_set: False\n",
            "One-vs-One Perceptron classifier\n",
            "Execution time: 4.08819\n",
            "The last iteration's result is: train accuracy = 0.8459, validation accuracy = 0.794\n",
            "-----------------------------------------------------------------------------------------------------------\n",
            "Iteration number: 38\n",
            "Following iteration is with learning rate: 0.6, small: True, preprocessing: Standard, on_test_set: False\n",
            "One-vs-One Perceptron classifier with standardized data\n",
            "Execution time: 3.37102\n",
            "The last iteration's result is: train accuracy = 0.9274, validation accuracy = 0.812\n",
            "-----------------------------------------------------------------------------------------------------------\n",
            "Iteration number: 39\n",
            "Following iteration is with learning rate: 0.6, small: True, preprocessing: MinMax, on_test_set: False\n",
            "One-vs-One Perceptron classifier with MinMax scaled data\n",
            "Execution time: 3.27476\n",
            "The last iteration's result is: train accuracy = 0.8928, validation accuracy = 0.8155\n",
            "-----------------------------------------------------------------------------------------------------------\n",
            "Iteration number: 40\n",
            "Following iteration is with learning rate: 0.8, small: True, preprocessing: False, on_test_set: False\n",
            "One-vs-One Perceptron classifier\n",
            "Execution time: 5.08641\n",
            "The last iteration's result is: train accuracy = 0.8459, validation accuracy = 0.794\n",
            "-----------------------------------------------------------------------------------------------------------\n",
            "Iteration number: 41\n",
            "Following iteration is with learning rate: 0.8, small: True, preprocessing: Standard, on_test_set: False\n",
            "One-vs-One Perceptron classifier with standardized data\n",
            "Execution time: 3.75774\n",
            "The last iteration's result is: train accuracy = 0.9274, validation accuracy = 0.812\n",
            "-----------------------------------------------------------------------------------------------------------\n",
            "Iteration number: 42\n",
            "Following iteration is with learning rate: 0.8, small: True, preprocessing: MinMax, on_test_set: False\n",
            "One-vs-One Perceptron classifier with MinMax scaled data\n",
            "Execution time: 3.27909\n",
            "The last iteration's result is: train accuracy = 0.8928, validation accuracy = 0.8155\n",
            "-----------------------------------------------------------------------------------------------------------\n",
            "Iteration number: 43\n",
            "Following iteration is with learning rate: 1.0, small: True, preprocessing: False, on_test_set: False\n",
            "One-vs-One Perceptron classifier\n",
            "Execution time: 4.15232\n",
            "The last iteration's result is: train accuracy = 0.8459, validation accuracy = 0.794\n",
            "-----------------------------------------------------------------------------------------------------------\n",
            "Iteration number: 44\n",
            "Following iteration is with learning rate: 1.0, small: True, preprocessing: Standard, on_test_set: False\n",
            "One-vs-One Perceptron classifier with standardized data\n",
            "Execution time: 3.37493\n",
            "The last iteration's result is: train accuracy = 0.9274, validation accuracy = 0.812\n",
            "-----------------------------------------------------------------------------------------------------------\n",
            "Iteration number: 45\n",
            "Following iteration is with learning rate: 1.0, small: True, preprocessing: MinMax, on_test_set: False\n",
            "One-vs-One Perceptron classifier with MinMax scaled data\n",
            "Execution time: 3.25602\n",
            "The last iteration's result is: train accuracy = 0.8928, validation accuracy = 0.8155\n",
            "-----------------------------------------------------------------------------------------------------------\n",
            "{(0.001, True, False, False): [0.8459, 0.794], (0.001, True, 'Standard', False): [0.9063, 0.8135], (0.001, True, 'MinMax', False): [0.8304, 0.803], (0.002, True, False, False): [0.8459, 0.794], (0.002, True, 'Standard', False): [0.9155, 0.814], (0.002, True, 'MinMax', False): [0.8324, 0.785], (0.003, True, False, False): [0.8459, 0.794], (0.003, True, 'Standard', False): [0.9099, 0.811], (0.003, True, 'MinMax', False): [0.8613, 0.8045], (0.01, True, False, False): [0.8459, 0.794], (0.01, True, 'Standard', False): [0.9274, 0.813], (0.01, True, 'MinMax', False): [0.8896, 0.817], (0.02, True, False, False): [0.8459, 0.794], (0.02, True, 'Standard', False): [0.9275, 0.814], (0.02, True, 'MinMax', False): [0.8906, 0.816], (0.09, True, False, False): [0.8459, 0.794], (0.09, True, 'Standard', False): [0.9275, 0.814], (0.09, True, 'MinMax', False): [0.8921, 0.8145], (0.1, True, False, False): [0.8459, 0.794], (0.1, True, 'Standard', False): [0.9275, 0.814], (0.1, True, 'MinMax', False): [0.8921, 0.8145], (0.11, True, False, False): [0.8459, 0.794], (0.11, True, 'Standard', False): [0.9275, 0.814], (0.11, True, 'MinMax', False): [0.8921, 0.8145], (0.2, True, False, False): [0.8459, 0.794], (0.2, True, 'Standard', False): [0.9275, 0.814], (0.2, True, 'MinMax', False): [0.8921, 0.8145], (0.3, True, False, False): [0.8459, 0.794], (0.3, True, 'Standard', False): [0.9275, 0.814], (0.3, True, 'MinMax', False): [0.8928, 0.8155], (0.4, True, False, False): [0.8459, 0.794], (0.4, True, 'Standard', False): [0.9275, 0.814], (0.4, True, 'MinMax', False): [0.8928, 0.8155], (0.5, True, False, False): [0.8459, 0.794], (0.5, True, 'Standard', False): [0.9275, 0.814], (0.5, True, 'MinMax', False): [0.8928, 0.8155], (0.6, True, False, False): [0.8459, 0.794], (0.6, True, 'Standard', False): [0.9274, 0.812], (0.6, True, 'MinMax', False): [0.8928, 0.8155], (0.8, True, False, False): [0.8459, 0.794], (0.8, True, 'Standard', False): [0.9274, 0.812], (0.8, True, 'MinMax', False): [0.8928, 0.8155], (1.0, True, False, False): [0.8459, 0.794], (1.0, True, 'Standard', False): [0.9274, 0.812], (1.0, True, 'MinMax', False): [0.8928, 0.8155]}\n",
            "Optimal parameters are learning rate: 0.01 and preprocessing: MinMax\n",
            "The optimal parameters produce accuracy train: 0.8896 and accuracy validation: 0.817\n",
            "Total Execution time: 159.45280\n"
          ]
        }
      ]
    },
    {
      "cell_type": "markdown",
      "source": [
        "We just found that the optimal hyperparameters for the perceptron on the small dataset are: learning rate and preprocessing . We can procede to train a perceptron on the whole dataset. "
      ],
      "metadata": {
        "id": "dZkyYeW0G7Qc"
      }
    },
    {
      "cell_type": "markdown",
      "source": [
        "## Perceptron on the big dataset with the results of the grid search on the small dataset"
      ],
      "metadata": {
        "id": "l1rUJJCNK_wX"
      }
    },
    {
      "cell_type": "code",
      "source": [
        "start_perc=time.time()\n",
        "result=perc_function(learning_rate=0.01,small=False,preprocessing=\"MinMax\",on_test_set=True)\n",
        "print(\"The result is: train accuracy = %s, validation accuracy = %s, test accuracy: %s\" %(result[0],result[1],result[2]))\n",
        "end_perc=time.time()\n",
        "total_execution_time=end_perc-start_perc\n",
        "print(\"Total Execution time: {:.5f}\".format(total_execution_time))"
      ],
      "metadata": {
        "colab": {
          "base_uri": "https://localhost:8080/"
        },
        "id": "0mz6RJRqH3EU",
        "outputId": "f46b7305-b5b8-4d9f-e2b0-b6df9a8d1dd8"
      },
      "execution_count": null,
      "outputs": [
        {
          "output_type": "stream",
          "name": "stdout",
          "text": [
            "One-vs-One Perceptron classifier with MinMax scaled data\n",
            "Execution time: 15.36512\n",
            "The result is: train accuracy = 0.79734, validation accuracy = 0.7765, test accuracy: 0.7705\n",
            "Total Execution time: 15.36723\n"
          ]
        }
      ]
    },
    {
      "cell_type": "markdown",
      "source": [
        "## Perceptron grid search on the big dataset"
      ],
      "metadata": {
        "id": "Fgoe5_ImLGfV"
      }
    },
    {
      "cell_type": "markdown",
      "source": [
        "The results are not good enoght, as we expected the validation and the test accuracy on the big dataset (train accuracy = 0.79734, validation accuracy = 0.7765, test accuracy: 0.7705) are smaller than the one on the small dataset (train accuracy = 0.8928, validation accuracy = 0.8155). The problem here is the train accuracy: it is very low, probably the bias is too high. Since the perceptron model is quite fast to train we can try a gridsearch on the big dataset. We evaluate the model on the training set in the grid search so we can see the results right here."
      ],
      "metadata": {
        "id": "EkUGBP8oKHU0"
      }
    },
    {
      "cell_type": "code",
      "source": [
        "acc_train = 0\n",
        "acc_val = 0\n",
        "acc_test = 0\n",
        "accuracy_test=[]\n",
        "optimal_hyperparameters=[]\n",
        "it_counter=0\n",
        "\n",
        "results_perc=dict()\n",
        "start_cycle_for=time.time()\n",
        "for lr in [0.001,0.01,0.02,0.1,0.2,0.5,1.0]:\n",
        "    for prep in [False, \"Standard\", \"MinMax\"]:\n",
        "      print(\"Iteration number: {}\".format(it_counter+1))\n",
        "      print(\"Following iteration is with learning rate: %s, small: %s, preprocessing: %s, on_test_set: %s\" %(lr,False,prep,True))\n",
        "      result=perc_function(learning_rate=lr,small=False,preprocessing=prep,on_test_set=True)\n",
        "      print(\"The last iteration's result is: train accuracy = %s, validation accuracy = %s, test accuracy: %s\" %(result[0],result[1],result[2]))\n",
        "      if result[1] > acc_val:\n",
        "        acc_test = result[2] \n",
        "        acc_val = result[1]\n",
        "        acc_train = result[0]\n",
        "        optimal_hyperparameters=[lr,prep]\n",
        "        print(\"Optimal hyperparameters adjusted!\")\n",
        "\n",
        "      it_counter+=1\n",
        "      results_perc[(lr,False,prep,True)]=result\n",
        "      print(\"-----------------------------------------------------------------------------------------------------------\")\n",
        "\n",
        "end_cycle_for=time.time()\n",
        "print(results_perc)\n",
        "print(\"Optimal hyperparameters are learning rate: {} and preprocessing: {}\".format(optimal_hyperparameters[0],optimal_hyperparameters[1]))\n",
        "print(\"The optimal hyperparameters produce accuracy train: {}, accuracy validation: {} and accuracy test\".format(acc_train,acc_val,acc_test))\n",
        "total_execution_time=end_cycle_for-start_cycle_for\n",
        "print(\"Total Execution time: {:.5f}\".format(total_execution_time))"
      ],
      "metadata": {
        "colab": {
          "base_uri": "https://localhost:8080/"
        },
        "id": "YSDQoY0-LJQW",
        "outputId": "af19e1c0-070f-423d-d038-5ce3b5fb0616"
      },
      "execution_count": null,
      "outputs": [
        {
          "output_type": "stream",
          "name": "stdout",
          "text": [
            "Iteration number: 1\n",
            "Following iteration is with learning rate: 0.001, small: False, preprocessing: False, on_test_set: True\n",
            "One-vs-One Perceptron classifier\n",
            "Execution time: 24.91294\n",
            "The last iteration's result is: train accuracy = 0.8383, validation accuracy = 0.8062, test accuracy: 0.8021\n",
            "Optimal hyperparameters adjusted!\n",
            "-----------------------------------------------------------------------------------------------------------\n",
            "Iteration number: 2\n",
            "Following iteration is with learning rate: 0.001, small: False, preprocessing: Standard, on_test_set: True\n",
            "One-vs-One Perceptron classifier with standardized data\n",
            "Execution time: 14.17210\n",
            "The last iteration's result is: train accuracy = 0.84282, validation accuracy = 0.8058, test accuracy: 0.8033\n",
            "-----------------------------------------------------------------------------------------------------------\n",
            "Iteration number: 3\n",
            "Following iteration is with learning rate: 0.001, small: False, preprocessing: MinMax, on_test_set: True\n",
            "One-vs-One Perceptron classifier with MinMax scaled data\n",
            "Execution time: 13.38816\n",
            "The last iteration's result is: train accuracy = 0.84272, validation accuracy = 0.825, test accuracy: 0.8148\n",
            "Optimal hyperparameters adjusted!\n",
            "-----------------------------------------------------------------------------------------------------------\n",
            "Iteration number: 4\n",
            "Following iteration is with learning rate: 0.01, small: False, preprocessing: False, on_test_set: True\n",
            "One-vs-One Perceptron classifier\n",
            "Execution time: 25.52179\n",
            "The last iteration's result is: train accuracy = 0.8383, validation accuracy = 0.8062, test accuracy: 0.8021\n",
            "-----------------------------------------------------------------------------------------------------------\n",
            "Iteration number: 5\n",
            "Following iteration is with learning rate: 0.01, small: False, preprocessing: Standard, on_test_set: True\n",
            "One-vs-One Perceptron classifier with standardized data\n",
            "Execution time: 17.83619\n",
            "The last iteration's result is: train accuracy = 0.84, validation accuracy = 0.8078, test accuracy: 0.7989\n",
            "-----------------------------------------------------------------------------------------------------------\n",
            "Iteration number: 6\n",
            "Following iteration is with learning rate: 0.01, small: False, preprocessing: MinMax, on_test_set: True\n",
            "One-vs-One Perceptron classifier with MinMax scaled data\n",
            "Execution time: 15.44391\n",
            "The last iteration's result is: train accuracy = 0.79734, validation accuracy = 0.7765, test accuracy: 0.7705\n",
            "-----------------------------------------------------------------------------------------------------------\n",
            "Iteration number: 7\n",
            "Following iteration is with learning rate: 0.02, small: False, preprocessing: False, on_test_set: True\n",
            "One-vs-One Perceptron classifier\n",
            "Execution time: 25.07730\n",
            "The last iteration's result is: train accuracy = 0.8383, validation accuracy = 0.8062, test accuracy: 0.8021\n",
            "-----------------------------------------------------------------------------------------------------------\n",
            "Iteration number: 8\n",
            "Following iteration is with learning rate: 0.02, small: False, preprocessing: Standard, on_test_set: True\n",
            "One-vs-One Perceptron classifier with standardized data\n",
            "Execution time: 19.14324\n",
            "The last iteration's result is: train accuracy = 0.8418, validation accuracy = 0.8077, test accuracy: 0.7971\n",
            "-----------------------------------------------------------------------------------------------------------\n",
            "Iteration number: 9\n",
            "Following iteration is with learning rate: 0.02, small: False, preprocessing: MinMax, on_test_set: True\n",
            "One-vs-One Perceptron classifier with MinMax scaled data\n",
            "Execution time: 16.85161\n",
            "The last iteration's result is: train accuracy = 0.79306, validation accuracy = 0.7723, test accuracy: 0.767\n",
            "-----------------------------------------------------------------------------------------------------------\n",
            "Iteration number: 10\n",
            "Following iteration is with learning rate: 0.1, small: False, preprocessing: False, on_test_set: True\n",
            "One-vs-One Perceptron classifier\n",
            "Execution time: 25.47902\n",
            "The last iteration's result is: train accuracy = 0.8383, validation accuracy = 0.8062, test accuracy: 0.8021\n",
            "-----------------------------------------------------------------------------------------------------------\n",
            "Iteration number: 11\n",
            "Following iteration is with learning rate: 0.1, small: False, preprocessing: Standard, on_test_set: True\n",
            "One-vs-One Perceptron classifier with standardized data\n",
            "Execution time: 20.35316\n",
            "The last iteration's result is: train accuracy = 0.85132, validation accuracy = 0.8179, test accuracy: 0.8047\n",
            "-----------------------------------------------------------------------------------------------------------\n",
            "Iteration number: 12\n",
            "Following iteration is with learning rate: 0.1, small: False, preprocessing: MinMax, on_test_set: True\n",
            "One-vs-One Perceptron classifier with MinMax scaled data\n",
            "Execution time: 18.65732\n",
            "The last iteration's result is: train accuracy = 0.78944, validation accuracy = 0.7712, test accuracy: 0.7617\n",
            "-----------------------------------------------------------------------------------------------------------\n",
            "Iteration number: 13\n",
            "Following iteration is with learning rate: 0.2, small: False, preprocessing: False, on_test_set: True\n",
            "One-vs-One Perceptron classifier\n",
            "Execution time: 26.25103\n",
            "The last iteration's result is: train accuracy = 0.8383, validation accuracy = 0.8062, test accuracy: 0.8021\n",
            "-----------------------------------------------------------------------------------------------------------\n",
            "Iteration number: 14\n",
            "Following iteration is with learning rate: 0.2, small: False, preprocessing: Standard, on_test_set: True\n",
            "One-vs-One Perceptron classifier with standardized data\n",
            "Execution time: 20.54423\n",
            "The last iteration's result is: train accuracy = 0.8521, validation accuracy = 0.8179, test accuracy: 0.8067\n",
            "-----------------------------------------------------------------------------------------------------------\n",
            "Iteration number: 15\n",
            "Following iteration is with learning rate: 0.2, small: False, preprocessing: MinMax, on_test_set: True\n",
            "One-vs-One Perceptron classifier with MinMax scaled data\n",
            "Execution time: 19.10402\n",
            "The last iteration's result is: train accuracy = 0.78812, validation accuracy = 0.7692, test accuracy: 0.7612\n",
            "-----------------------------------------------------------------------------------------------------------\n",
            "Iteration number: 16\n",
            "Following iteration is with learning rate: 0.5, small: False, preprocessing: False, on_test_set: True\n",
            "One-vs-One Perceptron classifier\n",
            "Execution time: 24.83078\n",
            "The last iteration's result is: train accuracy = 0.8383, validation accuracy = 0.8062, test accuracy: 0.8021\n",
            "-----------------------------------------------------------------------------------------------------------\n",
            "Iteration number: 17\n",
            "Following iteration is with learning rate: 0.5, small: False, preprocessing: Standard, on_test_set: True\n",
            "One-vs-One Perceptron classifier with standardized data\n",
            "Execution time: 20.21363\n",
            "The last iteration's result is: train accuracy = 0.8521, validation accuracy = 0.8179, test accuracy: 0.8067\n",
            "-----------------------------------------------------------------------------------------------------------\n",
            "Iteration number: 18\n",
            "Following iteration is with learning rate: 0.5, small: False, preprocessing: MinMax, on_test_set: True\n",
            "One-vs-One Perceptron classifier with MinMax scaled data\n",
            "Execution time: 19.88489\n",
            "The last iteration's result is: train accuracy = 0.78834, validation accuracy = 0.7701, test accuracy: 0.7609\n",
            "-----------------------------------------------------------------------------------------------------------\n",
            "Iteration number: 19\n",
            "Following iteration is with learning rate: 1.0, small: False, preprocessing: False, on_test_set: True\n",
            "One-vs-One Perceptron classifier\n",
            "Execution time: 26.53532\n",
            "The last iteration's result is: train accuracy = 0.8383, validation accuracy = 0.8062, test accuracy: 0.8021\n",
            "-----------------------------------------------------------------------------------------------------------\n",
            "Iteration number: 20\n",
            "Following iteration is with learning rate: 1.0, small: False, preprocessing: Standard, on_test_set: True\n",
            "One-vs-One Perceptron classifier with standardized data\n",
            "Execution time: 20.14387\n",
            "The last iteration's result is: train accuracy = 0.8521, validation accuracy = 0.8179, test accuracy: 0.8067\n",
            "-----------------------------------------------------------------------------------------------------------\n",
            "Iteration number: 21\n",
            "Following iteration is with learning rate: 1.0, small: False, preprocessing: MinMax, on_test_set: True\n",
            "One-vs-One Perceptron classifier with MinMax scaled data\n",
            "Execution time: 19.62646\n",
            "The last iteration's result is: train accuracy = 0.7884, validation accuracy = 0.7701, test accuracy: 0.7614\n",
            "-----------------------------------------------------------------------------------------------------------\n",
            "{(0.001, False, False, True): [0.8383, 0.8062, 0.8021], (0.001, False, 'Standard', True): [0.84282, 0.8058, 0.8033], (0.001, False, 'MinMax', True): [0.84272, 0.825, 0.8148], (0.01, False, False, True): [0.8383, 0.8062, 0.8021], (0.01, False, 'Standard', True): [0.84, 0.8078, 0.7989], (0.01, False, 'MinMax', True): [0.79734, 0.7765, 0.7705], (0.02, False, False, True): [0.8383, 0.8062, 0.8021], (0.02, False, 'Standard', True): [0.8418, 0.8077, 0.7971], (0.02, False, 'MinMax', True): [0.79306, 0.7723, 0.767], (0.1, False, False, True): [0.8383, 0.8062, 0.8021], (0.1, False, 'Standard', True): [0.85132, 0.8179, 0.8047], (0.1, False, 'MinMax', True): [0.78944, 0.7712, 0.7617], (0.2, False, False, True): [0.8383, 0.8062, 0.8021], (0.2, False, 'Standard', True): [0.8521, 0.8179, 0.8067], (0.2, False, 'MinMax', True): [0.78812, 0.7692, 0.7612], (0.5, False, False, True): [0.8383, 0.8062, 0.8021], (0.5, False, 'Standard', True): [0.8521, 0.8179, 0.8067], (0.5, False, 'MinMax', True): [0.78834, 0.7701, 0.7609], (1.0, False, False, True): [0.8383, 0.8062, 0.8021], (1.0, False, 'Standard', True): [0.8521, 0.8179, 0.8067], (1.0, False, 'MinMax', True): [0.7884, 0.7701, 0.7614]}\n",
            "Optimal hyperparameters are learning rate: 0.001 and preprocessing: MinMax\n",
            "The optimal hyperparameters produce accuracy train: 0.84272, accuracy validation: 0.825 and accuracy test\n",
            "Total Execution time: 434.01119\n"
          ]
        }
      ]
    },
    {
      "cell_type": "markdown",
      "source": [
        "After this grid search on the big dataset the optimal hyperparameter found are: learning rate: 0.001 and preprocessing: MinMax. With this hyperparameter the results are train accuracy: 0.84272, validation accuracy: 0.825 and test accuracy: 0.8148. This is not a big improvement, but since the accuracy does not increase over at best 82% then we can say that the problem is in chosing the perceptron. This model is probably too simple for the task."
      ],
      "metadata": {
        "id": "Di42g6K9PvDx"
      }
    },
    {
      "cell_type": "markdown",
      "source": [
        "# k-Nearest Neighbors (kNN)"
      ],
      "metadata": {
        "id": "N2e6yDsrNsLQ"
      }
    },
    {
      "cell_type": "code",
      "source": [
        "def knn_function(k_max=10,small=True,preprocessing=False,on_test=False):\n",
        "  start_time_knn=time.time()\n",
        "  accuracy_values_train = []\n",
        "  accuracy_values_val = []\n",
        "  accuracy_values_test = []\n",
        "  fib = [2, 3, 4, 5, 6, 7, 8, 9, 10, 11, 12, 13, 21, 27,30, 34, 40, 55, 89, 144, 233, 377, 610, 987, 1597, 2584, 4181, 6765, 10946, 17711, 28657]\n",
        "  k_values = [k for k in fib if k<=k_max]\n",
        "\n",
        "  if small==True and preprocessing==False:\n",
        "    for k in k_values:\n",
        "      knn= KNeighborsClassifier(n_neighbors = k, n_jobs=-1) # Classifier implementing the k-nearest neighbors vote \n",
        "      knn.fit(X_train_small,Y_train_small)  # Fit the k-nearest neighbors classifier from the training dataset\n",
        "      y_pred_train = knn.predict(X_train_small)   # How are the scores of knn on the training set? it should work ok \n",
        "      accuracy_values_train.append(accuracy_score(Y_train_small, y_pred_train)) \n",
        "      y_pred_val = knn.predict(X_val_small)   # How are the scores of knn on the val set? Now i can choose the best hyperparameter k \n",
        "      accuracy_values_val.append(accuracy_score(Y_val_small, y_pred_val)) \n",
        "      if on_test==True: \n",
        "        y_pred_test = knn.predict(X_test_small) #unbiased final test \n",
        "        accuracy_values_test.append(accuracy_score(Y_test_small, y_pred_test))\n",
        "\n",
        "\n",
        "  if small==False and preprocessing==False:\n",
        "    for k in k_values:\n",
        "      knn= KNeighborsClassifier(n_neighbors = k, n_jobs=-1) # Classifier implementing the k-nearest neighbors vote \n",
        "      knn.fit(X_train,Y_train)  # Fit the k-nearest neighbors classifier from the training dataset\n",
        "      y_pred_train = knn.predict(X_train)   # How are the scores of knn on the training set? it should work ok \n",
        "      accuracy_values_train.append(accuracy_score(Y_train, y_pred_train)) \n",
        "      y_pred_val = knn.predict(X_val)   # How are the scores of knn on the val set? Now i can choose the best hyperparameter k \n",
        "      accuracy_values_val.append(accuracy_score(Y_val, y_pred_val)) \n",
        "      if on_test==True: \n",
        "        y_pred_test = knn.predict(X_test) #unbiased final test \n",
        "        accuracy_values_test.append(accuracy_score(Y_test, y_pred_test))\n",
        "\n",
        "  if small==True and preprocessing==\"MinMax\":\n",
        "    for k in k_values:\n",
        "      knn= KNeighborsClassifier(n_neighbors = k, n_jobs=-1) # Classifier implementing the k-nearest neighbors vote \n",
        "      knn.fit(X_train_small_minmax,Y_train_small)  # Fit the k-nearest neighbors classifier from the training dataset\n",
        "      y_pred_train = knn.predict(X_train_small_minmax)   # How are the scores of knn on the training set? it should work ok \n",
        "      accuracy_values_train.append(accuracy_score(Y_train_small, y_pred_train)) \n",
        "      y_pred_val = knn.predict(X_val_small_minmax)   # How are the scores of knn on the val set? Now i can choose the best hyperparameter k \n",
        "      accuracy_values_val.append(accuracy_score(Y_val_small, y_pred_val)) \n",
        "      if on_test==True: \n",
        "        y_pred_test = knn.predict(X_test_small_minmax) #unbiased final test \n",
        "        accuracy_values_test.append(accuracy_score(Y_test_small, y_pred_test))\n",
        "  \n",
        "  if small==True and preprocessing==\"Standard\":\n",
        "    for k in k_values:\n",
        "      knn= KNeighborsClassifier(n_neighbors = k, n_jobs=-1) # Classifier implementing the k-nearest neighbors vote \n",
        "      knn.fit(X_train_small_standard,Y_train_small)  # Fit the k-nearest neighbors classifier from the training dataset\n",
        "      y_pred_train = knn.predict(X_train_small_standard)   # How are the scores of knn on the training set? it should work ok \n",
        "      accuracy_values_train.append(accuracy_score(Y_train_small, y_pred_train)) \n",
        "      y_pred_val = knn.predict(X_val_small_standard)   # How are the scores of knn on the val set? Now i can choose the best hyperparameter k \n",
        "      accuracy_values_val.append(accuracy_score(Y_val_small, y_pred_val)) \n",
        "      if on_test==True: \n",
        "        y_pred_test = knn.predict(X_test_small_standard) #unbiased final test \n",
        "        accuracy_values_test.append(accuracy_score(Y_test_small, y_pred_test))\n",
        "  \n",
        "  if small==False and preprocessing==\"MinMax\":\n",
        "    for k in k_values:\n",
        "      knn= KNeighborsClassifier(n_neighbors = k, n_jobs=-1) # Classifier implementing the k-nearest neighbors vote \n",
        "      knn.fit(X_train_minmax,Y_train)  # Fit the k-nearest neighbors classifier from the training dataset\n",
        "      y_pred_train = knn.predict(X_train_minmax)   # How are the scores of knn on the training set? it should work ok \n",
        "      accuracy_values_train.append(accuracy_score(Y_train, y_pred_train)) \n",
        "      y_pred_val = knn.predict(X_val_minmax)   # How are the scores of knn on the val set? Now i can choose the best hyperparameter k \n",
        "      accuracy_values_val.append(accuracy_score(Y_val, y_pred_val)) \n",
        "      if on_test==True: \n",
        "        y_pred_test = knn.predict(X_test_minmax) #unbiased final test \n",
        "        accuracy_values_test.append(accuracy_score(Y_test, y_pred_test))\n",
        "\n",
        "  if small==False and preprocessing==\"Standard\":\n",
        "    for k in k_values:\n",
        "      knn= KNeighborsClassifier(n_neighbors = k, n_jobs=-1) # Classifier implementing the k-nearest neighbors vote \n",
        "      knn.fit(X_train_standard,Y_train)  # Fit the k-nearest neighbors classifier from the training dataset\n",
        "      y_pred_train = knn.predict(X_train_standard)   # How are the scores of knn on the training set? it should work ok \n",
        "      accuracy_values_train.append(accuracy_score(Y_train, y_pred_train)) \n",
        "      y_pred_val = knn.predict(X_val_standard)   # How are the scores of knn on the val set? Now i can choose the best hyperparameter k \n",
        "      accuracy_values_val.append(accuracy_score(Y_val, y_pred_val)) \n",
        "      if on_test==True: \n",
        "        y_pred_test = knn.predict(X_test_standard) #unbiased final test \n",
        "        accuracy_values_test.append(accuracy_score(Y_test, y_pred_test))\n",
        "\n",
        "\n",
        "  #plot\n",
        "  fig = plt.figure(figsize=(10,8))\n",
        "  plt.plot(k_values, accuracy_values_train, label=\"train\")\n",
        "  plt.plot(k_values, accuracy_values_val, label=\"val\")\n",
        "  if on_test==True: \n",
        "    plt.plot(k_values, accuracy_values_test, label=\"test\")\n",
        "  plt.xlabel(\"K\")\n",
        "  plt.ylabel(\"Accuracy\")\n",
        "  plt.legend()\n",
        "  plt.show()\n",
        "\n",
        "  #result\n",
        "  k_opt = np.argmax(accuracy_values_val)\n",
        "  end_time_knn = time.time()\n",
        "  print(\"The optimal k is {}\".format(k_values[k_opt]))\n",
        "  print(k_values)\n",
        "  #print(accuracy_values_train)\n",
        "  #print(accuracy_values_val)\n",
        "  tab = PrettyTable()\n",
        "  tab.field_names = k_values\n",
        "  tab.add_rows(\n",
        "      [\n",
        "          accuracy_values_train,\n",
        "          accuracy_values_val,\n",
        "      ]\n",
        "  )\n",
        "  if on_test==True: \n",
        "    #print(accuracy_values_test)\n",
        "    tab.add_row(accuracy_values_test)\n",
        "  print(tab)\n",
        "  print(\"Execution time: {:.5f}\".format(end_time_knn-start_time_knn))\n",
        "\n",
        "  if on_test==True: \n",
        "    return k_values[k_opt],accuracy_values_train[k_opt],accuracy_values_val[k_opt], accuracy_values_test[k_opt]\n",
        "  \n",
        "  return k_values[k_opt],accuracy_values_train[k_opt],accuracy_values_val[k_opt]"
      ],
      "metadata": {
        "id": "Sjdujy9TPWnJ"
      },
      "execution_count": 15,
      "outputs": []
    },
    {
      "cell_type": "markdown",
      "source": [
        "## K-NN grid search on the small dataset"
      ],
      "metadata": {
        "id": "tSUvaO0ARfxC"
      }
    },
    {
      "cell_type": "markdown",
      "source": [
        "As before we procede with a gridsearch on the small dataset. Actually half of the grid seach is in the function, this is wanted to always do a search on the best k. "
      ],
      "metadata": {
        "id": "8CXBESk5Rasl"
      }
    },
    {
      "cell_type": "code",
      "source": [
        "k_max = 35\n",
        "results_knn = dict()\n",
        "it_counter = 0\n",
        "acc_val = 0\n",
        "acc_train = 0\n",
        "k_opt = 0\n",
        "s = True\n",
        "\n",
        "for prep in [False, \"Standard\", \"MinMax\"]:\n",
        "  print(\"Iteration number: {}\".format(it_counter+1))\n",
        "  it_counter+=1\n",
        "  print(\"Following iteration is: k_max=%s, small: %s, preprocessing: %s\" %(k_max,s,prep))\n",
        "  result=knn_function(k_max,small=True,preprocessing=prep,on_test=False)\n",
        "  print(\"The last iteration's result is: k=%s, train_accuracy=%s, val_accuracy=%s\" %(result[0],result[1],result[2]))\n",
        "  results_knn[(k_max,s,prep)]=result\n",
        "  if result[2] > acc_val:\n",
        "        acc_val = result[2]\n",
        "        acc_train = result[1]\n",
        "        k_opt = result[0]\n",
        "        optimal_hyperparameters=[prep]\n",
        "        print(\"Optimal hyperparameters adjusted!\")\n",
        "  print(\"-----------------------------------------------------------------------------------------------------------\")\n",
        "\n",
        "end_cycle_for=time.time()\n",
        "print(results_knn)\n",
        "print(\"Optimal hyperparameter is : {}\".format(optimal_hyperparameters[0]))\n",
        "print(\"The optimal parameter produce accuracy train: {} and accuracy validation: {}\".format(acc_train,acc_val))\n",
        "total_execution_time=end_cycle_for-start_cycle_for\n",
        "print(\"Total Execution time: {:.5f}\".format(total_execution_time))"
      ],
      "metadata": {
        "id": "HmxuzClmWm7V",
        "colab": {
          "base_uri": "https://localhost:8080/",
          "height": 1000
        },
        "outputId": "79c046e3-580b-454b-cf71-2f7b7c2c360f"
      },
      "execution_count": null,
      "outputs": [
        {
          "output_type": "stream",
          "name": "stdout",
          "text": [
            "Iteration number: 1\n",
            "Following iteration is: k_max=35, small: True, preprocessing: False\n"
          ]
        },
        {
          "output_type": "display_data",
          "data": {
            "text/plain": [
              "<Figure size 720x576 with 1 Axes>"
            ],
            "image/png": "[encoded data removed]"
          },
          "metadata": {
            "needs_background": "light"
          }
        },
        {
          "output_type": "stream",
          "name": "stdout",
          "text": [
            "The optimal k is 5\n",
            "[2, 3, 4, 5, 6, 7, 8, 9, 10, 11, 12, 13, 21, 27, 30, 34]\n",
            "+--------+-------+--------+--------+--------+--------+--------+--------+--------+--------+--------+--------+--------+--------+--------+--------+\n",
            "|   2    |   3   |   4    |   5    |   6    |   7    |   8    |   9    |   10   |   11   |   12   |   13   |   21   |   27   |   30   |   34   |\n",
            "+--------+-------+--------+--------+--------+--------+--------+--------+--------+--------+--------+--------+--------+--------+--------+--------+\n",
            "| 0.9171 | 0.896 | 0.8831 | 0.8732 | 0.8691 | 0.8619 | 0.8598 | 0.8526 | 0.8502 | 0.8437 | 0.8433 | 0.8417 | 0.8256 | 0.8211 | 0.819  | 0.8159 |\n",
            "| 0.8035 | 0.812 | 0.809  | 0.8125 | 0.808  | 0.808  | 0.8055 | 0.8065 | 0.8045 | 0.802  | 0.7995 | 0.8015 | 0.8005 | 0.7975 | 0.7975 | 0.791  |\n",
            "+--------+-------+--------+--------+--------+--------+--------+--------+--------+--------+--------+--------+--------+--------+--------+--------+\n",
            "Execution time: 226.59768\n",
            "The last iteration's result is: k=5, train_accuracy=0.8732, val_accuracy=0.8125\n",
            "Optimal hyperparameters adjusted!\n",
            "-----------------------------------------------------------------------------------------------------------\n",
            "Iteration number: 2\n",
            "Following iteration is: k_max=35, small: True, preprocessing: Standard\n"
          ]
        },
        {
          "output_type": "display_data",
          "data": {
            "text/plain": [
              "<Figure size 720x576 with 1 Axes>"
            ],
            "image/png": "[encoded data removed]"
          },
          "metadata": {
            "needs_background": "light"
          }
        },
        {
          "output_type": "stream",
          "name": "stdout",
          "text": [
            "The optimal k is 5\n",
            "[2, 3, 4, 5, 6, 7, 8, 9, 10, 11, 12, 13, 21, 27, 30, 34]\n",
            "+--------+--------+--------+--------+--------+--------+--------+--------+--------+--------+--------+--------+--------+-------+--------+--------+\n",
            "|   2    |   3    |   4    |   5    |   6    |   7    |   8    |   9    |   10   |   11   |   12   |   13   |   21   |   27  |   30   |   34   |\n",
            "+--------+--------+--------+--------+--------+--------+--------+--------+--------+--------+--------+--------+--------+-------+--------+--------+\n",
            "| 0.9189 | 0.8944 | 0.8825 | 0.8746 | 0.8702 | 0.8602 | 0.8604 | 0.8538 | 0.8488 | 0.8461 | 0.8442 |  0.84  | 0.8298 | 0.821 | 0.8169 | 0.8139 |\n",
            "| 0.8055 | 0.8105 | 0.8125 | 0.8155 | 0.8085 | 0.809  | 0.8105 | 0.8095 | 0.8025 | 0.801  | 0.801  | 0.7985 | 0.796  | 0.788 | 0.786  | 0.778  |\n",
            "+--------+--------+--------+--------+--------+--------+--------+--------+--------+--------+--------+--------+--------+-------+--------+--------+\n",
            "Execution time: 226.96859\n",
            "The last iteration's result is: k=5, train_accuracy=0.8746, val_accuracy=0.8155\n",
            "Optimal hyperparameters adjusted!\n",
            "-----------------------------------------------------------------------------------------------------------\n",
            "Iteration number: 3\n",
            "Following iteration is: k_max=35, small: True, preprocessing: MinMax\n"
          ]
        },
        {
          "output_type": "display_data",
          "data": {
            "text/plain": [
              "<Figure size 720x576 with 1 Axes>"
            ],
            "image/png": "[encoded data removed]"
          },
          "metadata": {
            "needs_background": "light"
          }
        },
        {
          "output_type": "stream",
          "name": "stdout",
          "text": [
            "The optimal k is 5\n",
            "[2, 3, 4, 5, 6, 7, 8, 9, 10, 11, 12, 13, 21, 27, 30, 34]\n",
            "+--------+--------+--------+-------+--------+--------+--------+--------+--------+--------+--------+--------+--------+--------+--------+--------+\n",
            "|   2    |   3    |   4    |   5   |   6    |   7    |   8    |   9    |   10   |   11   |   12   |   13   |   21   |   27   |   30   |   34   |\n",
            "+--------+--------+--------+-------+--------+--------+--------+--------+--------+--------+--------+--------+--------+--------+--------+--------+\n",
            "| 0.9171 | 0.8959 | 0.883  | 0.873 | 0.8687 | 0.8616 | 0.8599 | 0.8527 | 0.8502 | 0.844  | 0.8435 | 0.8415 | 0.8262 | 0.8208 | 0.819  | 0.8157 |\n",
            "| 0.804  | 0.811  | 0.8095 | 0.812 | 0.8075 | 0.808  | 0.8065 | 0.8065 | 0.8045 | 0.8025 | 0.7985 | 0.802  | 0.8005 | 0.797  | 0.7975 | 0.791  |\n",
            "+--------+--------+--------+-------+--------+--------+--------+--------+--------+--------+--------+--------+--------+--------+--------+--------+\n",
            "Execution time: 226.01555\n",
            "The last iteration's result is: k=5, train_accuracy=0.873, val_accuracy=0.812\n",
            "-----------------------------------------------------------------------------------------------------------\n",
            "{(35, True, False): (5, 0.8732, 0.8125), (35, True, 'Standard'): (5, 0.8746, 0.8155), (35, True, 'MinMax'): (5, 0.873, 0.812)}\n",
            "Optimal hyperparameter is : Standard\n",
            "The optimal parameter produce accuracy train: 0.8746 and accuracy validation: 0.8155\n",
            "Total Execution time: 1681.66308\n"
          ]
        }
      ]
    },
    {
      "cell_type": "markdown",
      "source": [
        "## K_NN on the big dataset"
      ],
      "metadata": {
        "id": "q_mrlz5nk0fF"
      }
    },
    {
      "cell_type": "markdown",
      "source": [
        "Now we can train a knn classificator on the big dataset with the hyperparameter we found with the grid search on the small dataset: we use k=5 and standard preprocessing. "
      ],
      "metadata": {
        "id": "IsVj3v9gkv1t"
      }
    },
    {
      "cell_type": "code",
      "source": [
        "start_knn=time.time()\n",
        "k = 5\n",
        "\n",
        "\n",
        "knn= KNeighborsClassifier(n_neighbors = k, n_jobs=-1) # Classifier implementing the k-nearest neighbors vote \n",
        "knn.fit(X_train_standard,Y_train)  # Fit the k-nearest neighbors classifier from the training dataset\n",
        "\n",
        "y_pred_train = knn.predict(X_train_standard)   # How are the scores of knn on the training set? it should work ok \n",
        "y_pred_val = knn.predict(X_val_standard)   # How are the scores of knn on the val set? Now i can choose the best hyperparameter k \n",
        "y_pred_test = knn.predict(X_test_standard) #unbiased final test \n",
        "\n",
        "accuracy_train = accuracy_score(Y_train, y_pred_train)\n",
        "accuracy_val = accuracy_score(Y_val, y_pred_val)\n",
        "accuracy_test = accuracy_score(Y_test, y_pred_test)\n",
        "\n",
        "print(\"The result is: train accuracy = {:.5f}, validation accuracy = {:.5f}, test accuracy: {:.5f}\".format(accuracy_train,accuracy_val,accuracy_test))\n",
        "end_knn=time.time()\n",
        "total_execution_time=end_knn-start_knn\n",
        "print(\"Total Execution time: {:.5f}\".format(total_execution_time))"
      ],
      "metadata": {
        "colab": {
          "base_uri": "https://localhost:8080/"
        },
        "id": "a_8Jq6cJk37q",
        "outputId": "160e3fee-3ecb-4c63-827e-3f2e0559eb18"
      },
      "execution_count": null,
      "outputs": [
        {
          "output_type": "stream",
          "name": "stdout",
          "text": [
            "The result is: train accuracy = 0.89976, validation accuracy = 0.85040, test accuracy: 0.85230\n",
            "Total Execution time: 328.81750\n"
          ]
        }
      ]
    },
    {
      "cell_type": "markdown",
      "source": [
        "## Does it change if we do the grid search on the big dataset? Do not run: 3 hours required."
      ],
      "metadata": {
        "id": "Jn1iJTdjpvVr"
      }
    },
    {
      "cell_type": "code",
      "source": [
        "k_max=10\n",
        "results=dict()\n",
        "start_knn=time.time()\n",
        "acc_train = 0\n",
        "acc_val = 0\n",
        "acc_test = 0\n",
        "k_opt = 0\n",
        "optimal_hyperparameter = None\n",
        "\n",
        "for prep in [False, \"Standard\", \"MinMax\"]:\n",
        "  start_time_it = time.time()\n",
        "  print(\"Following iteration is: k_max=%s, small: %s, preprocessing: %s\" %(k_max,False,prep))\n",
        "  result=knn_function(k_max,small=False,preprocessing=prep,on_test=True)\n",
        "  results[(k_max,False,prep)]=result\n",
        "  end_time_it = time.time()\n",
        "  total_time_it = end_time_it-start_time_it\n",
        "  print(\"The result is: k optimal = {}, train accuracy = {:.5f}, validation accuracy = {:.5f}, test accuracy: {:.5f}\".format(result[0],result[1],result[2],result[3]))\n",
        "  print(\"Iteration execution time: {:.5f}\".format(total_time_it))\n",
        "  if result[2] > acc_val:\n",
        "    k_opt = result[0]\n",
        "    acc_val = result[2]\n",
        "    acc_train = result[1]\n",
        "    acc_test = result[3]\n",
        "    optimal_hyperparameter = prep\n",
        "    print(\"Optimal hyperparameter adjusted!\")\n",
        "  print(\"-----------------------------------------------------------------------------------------------------------\")\n",
        "\n",
        "print(results)\n",
        "\n",
        "end_knn=time.time()\n",
        "total_execution_time=end_knn-start_knn\n",
        "print(\"Optimal hyperparameters are k opt: {} and preprocessing: {}\".format(k_opt,optimal_hyperparameter))\n",
        "print(\"The optimal hyperparameter produces accuracy train: {}, accuracy validation: {} and accuracy test\".format(acc_train,acc_val,acc_test))\n",
        "print(\"Total Execution time: {:.5f}\".format(total_execution_time))\n"
      ],
      "metadata": {
        "colab": {
          "base_uri": "https://localhost:8080/",
          "height": 1000
        },
        "outputId": "cdf75c21-e890-42c9-a871-5aee88495b8b",
        "id": "p-9uYlU-8dql"
      },
      "execution_count": null,
      "outputs": [
        {
          "output_type": "stream",
          "name": "stdout",
          "text": [
            "Following iteration is: k_max=10, small: False, preprocessing: False\n"
          ]
        },
        {
          "output_type": "display_data",
          "data": {
            "text/plain": [
              "<Figure size 720x576 with 1 Axes>"
            ],
            "image/png": "[encoded data removed]"
          },
          "metadata": {
            "needs_background": "light"
          }
        },
        {
          "output_type": "stream",
          "name": "stdout",
          "text": [
            "The optimal k is 4\n",
            "[2, 3, 4, 5, 6, 7, 8, 9, 10]\n",
            "+--------+---------+---------+---------+---------+---------+--------+---------+---------+\n",
            "|   2    |    3    |    4    |    5    |    6    |    7    |   8    |    9    |    10   |\n",
            "+--------+---------+---------+---------+---------+---------+--------+---------+---------+\n",
            "| 0.9306 | 0.91878 | 0.90768 | 0.89788 | 0.89158 | 0.88574 | 0.8824 | 0.87824 | 0.87674 |\n",
            "| 0.8473 |  0.851  |  0.8543 |  0.8509 |  0.8532 |  0.8525 | 0.8512 |  0.8519 |  0.8487 |\n",
            "| 0.8432 |  0.8473 |  0.8536 |  0.8505 |  0.8517 |  0.8482 | 0.851  |  0.8473 |  0.8457 |\n",
            "+--------+---------+---------+---------+---------+---------+--------+---------+---------+\n",
            "Execution time: 3134.26167\n",
            "The result is: k optimal = 4, train accuracy = 0.90768, validation accuracy = 0.85430, test accuracy: 0.85360\n",
            "Iteration execution time: 3134.27554\n",
            "Optimal hyperparameter adjusted!\n",
            "-----------------------------------------------------------------------------------------------------------\n",
            "Following iteration is: k_max=10, small: False, preprocessing: Standard\n"
          ]
        },
        {
          "output_type": "display_data",
          "data": {
            "text/plain": [
              "<Figure size 720x576 with 1 Axes>"
            ],
            "image/png": "[encoded data removed]"
          },
          "metadata": {
            "needs_background": "light"
          }
        },
        {
          "output_type": "stream",
          "name": "stdout",
          "text": [
            "The optimal k is 4\n",
            "[2, 3, 4, 5, 6, 7, 8, 9, 10]\n",
            "+---------+---------+---------+---------+---------+---------+--------+---------+---------+\n",
            "|    2    |    3    |    4    |    5    |    6    |    7    |   8    |    9    |    10   |\n",
            "+---------+---------+---------+---------+---------+---------+--------+---------+---------+\n",
            "| 0.93146 | 0.92062 | 0.91054 | 0.89976 | 0.89396 | 0.88788 | 0.8848 | 0.88022 | 0.87916 |\n",
            "|  0.8425 |  0.851  |  0.8516 |  0.8504 |  0.8507 |  0.8512 | 0.8503 |  0.8496 |  0.8494 |\n",
            "|  0.8418 |  0.8475 |  0.8529 |  0.8523 |  0.8535 |  0.8484 | 0.8501 |  0.8475 |  0.8468 |\n",
            "+---------+---------+---------+---------+---------+---------+--------+---------+---------+\n",
            "Execution time: 3100.45012\n",
            "The result is: k optimal = 4, train accuracy = 0.91054, validation accuracy = 0.85160, test accuracy: 0.85290\n",
            "Iteration execution time: 3100.45226\n",
            "-----------------------------------------------------------------------------------------------------------\n",
            "Following iteration is: k_max=10, small: False, preprocessing: MinMax\n"
          ]
        },
        {
          "output_type": "display_data",
          "data": {
            "text/plain": [
              "<Figure size 720x576 with 1 Axes>"
            ],
            "image/png": "[encoded data removed]"
          },
          "metadata": {
            "needs_background": "light"
          }
        },
        {
          "output_type": "stream",
          "name": "stdout",
          "text": [
            "The optimal k is 4\n",
            "[2, 3, 4, 5, 6, 7, 8, 9, 10]\n",
            "+---------+---------+--------+---------+---------+---------+---------+---------+--------+\n",
            "|    2    |    3    |   4    |    5    |    6    |    7    |    8    |    9    |   10   |\n",
            "+---------+---------+--------+---------+---------+---------+---------+---------+--------+\n",
            "| 0.93062 | 0.91874 | 0.9076 | 0.89786 | 0.89166 | 0.88576 | 0.88236 | 0.87812 | 0.8767 |\n",
            "|  0.8471 |  0.8509 | 0.8541 |  0.8508 |  0.8534 |  0.8522 |  0.8511 |  0.8519 | 0.8487 |\n",
            "|  0.8431 |  0.847  | 0.8538 |  0.8505 |  0.8517 |  0.8482 |  0.8509 |  0.8472 | 0.8459 |\n",
            "+---------+---------+--------+---------+---------+---------+---------+---------+--------+\n",
            "Execution time: 3094.09408\n",
            "The result is: k optimal = 4, train accuracy = 0.90760, validation accuracy = 0.85410, test accuracy: 0.85380\n",
            "Iteration execution time: 3094.09602\n",
            "-----------------------------------------------------------------------------------------------------------\n",
            "{(10, False, False): (4, 0.90768, 0.8543, 0.8536), (10, False, 'Standard'): (4, 0.91054, 0.8516, 0.8529), (10, False, 'MinMax'): (4, 0.9076, 0.8541, 0.8538)}\n",
            "Optimal hyperparameters are k opt: 4 and preprocessing: False\n",
            "The optimal hyperparameter produces accuracy train: 0.90768, accuracy validation: 0.8543 and accuracy test\n",
            "Total Execution time: 9328.83686\n"
          ]
        }
      ]
    },
    {
      "cell_type": "markdown",
      "source": [
        "Actually it does change, before we found k=5, now the optimal k is 4. We see that for k = 4 and withoud preprocessing the validation accuracy reaches 0.8543, and in this case the test accuracy is 0.8536. Indeed better than validation accuracy small = 0.85040, test accuracy small: 0.85230; but not really enough better to justify a 3 hours long run. We got less than 0.01 \n",
        "improvement, this is an empirical confirm that use the small dataset to train an expensive model is a great idea to save time."
      ],
      "metadata": {
        "id": "PRV4SOLf6tZ3"
      }
    },
    {
      "cell_type": "markdown",
      "source": [
        "# Decision Tree and Random Forest"
      ],
      "metadata": {
        "id": "WYye6X7DyLY-"
      }
    },
    {
      "cell_type": "markdown",
      "source": [
        "## Grid searches for Decision Tree and Random Forest on small dataset"
      ],
      "metadata": {
        "id": "KStSxYqwf2id"
      }
    },
    {
      "cell_type": "markdown",
      "source": [
        "We implemented a grid search on the small dataset since on the whole dataset the algorithm is too slow. The optimal hyperparameter we found by the GridSearch should generalize well on the whole dataset."
      ],
      "metadata": {
        "id": "KJQstsN4qzCb"
      }
    },
    {
      "cell_type": "code",
      "source": [
        "#Grid Search for the hyperparameters for the Decision Tree\n",
        "start_time_grid_tree = time.time()\n",
        "param_grid_test = {'max_depth': [9,10,11,None],\n",
        "                   'min_samples_leaf': [1,3,4,5,8],\n",
        "                   'min_samples_split': [18,19,20,21]\n",
        "                   }\n",
        "model = tree.DecisionTreeClassifier(random_state=123,criterion='entropy')\n",
        "clf_tree_search = GridSearchCV(estimator = model, param_grid=param_grid_test, cv = 5, scoring = \"accuracy\",verbose=0)\n",
        "clf_tree_search.fit(X_train_small,Y_train_small)\n",
        "end_time_grid_tree = time.time()\n",
        "print(\"Best hyperparameters: {}\".format(clf_tree_search.best_params_))\n",
        "print(\"Best accuracy score: {:.5f}\".format(clf_tree_search.best_score_))\n",
        "print(\"Esecution time of the GridSearch: {:.5f}\".format(end_time_grid_tree-start_time_grid_tree))"
      ],
      "metadata": {
        "id": "NbKYHI1vf5QZ",
        "colab": {
          "base_uri": "https://localhost:8080/"
        },
        "outputId": "a8a5d708-daf0-4f7b-8073-7fa90d42d031"
      },
      "execution_count": 16,
      "outputs": [
        {
          "output_type": "stream",
          "name": "stdout",
          "text": [
            "Best hyperparameters: {'max_depth': 11, 'min_samples_leaf': 5, 'min_samples_split': 18}\n",
            "Best accuracy score: 0.77730\n",
            "Esecution time of the GridSearch: 2222.82338\n"
          ]
        }
      ]
    },
    {
      "cell_type": "code",
      "source": [
        "#Grid Search for the hyperparameters for the Random Forest\n",
        "start_time_grid_forest = time.time()\n",
        "param_grid_test = {'n_estimators':[5,10,50,100], \n",
        "                   'max_depth': [5,10,None], \n",
        "                   'min_samples_leaf': [1,10],\n",
        "                   'min_samples_split': [2,10,15]\n",
        "                   }\n",
        "model = RandomForestClassifier(random_state=123,criterion='entropy')\n",
        "clf_random_forest_search = GridSearchCV(estimator = model, param_grid=param_grid_test, cv = 5, scoring = \"accuracy\",verbose=0)\n",
        "clf_random_forest_search.fit(X_train_small,Y_train_small)\n",
        "end_time_grid_forest = time.time()\n",
        "print(\"Best hyperparameters: {}\".format(clf_random_forest_search.best_params_))\n",
        "print(\"Best accuracy score: {:.5f}\".format(clf_random_forest_search.best_score_))\n",
        "print(\"Esecution time of the GridSearch: {:.5f}\".format(end_time_grid_forest-start_time_grid_forest))"
      ],
      "metadata": {
        "id": "Ouxdxkqpf79F",
        "colab": {
          "base_uri": "https://localhost:8080/"
        },
        "outputId": "fa6702df-fb87-4900-abc1-158a2dcf56a6"
      },
      "execution_count": 17,
      "outputs": [
        {
          "output_type": "stream",
          "name": "stdout",
          "text": [
            "Best hyperparameters: {'max_depth': None, 'min_samples_leaf': 1, 'min_samples_split': 2, 'n_estimators': 100}\n",
            "Best accuracy score: 0.85950\n",
            "Esecution time of the GridSearch: 1858.11052\n"
          ]
        }
      ]
    },
    {
      "cell_type": "markdown",
      "source": [
        "## Grid searches for DT and RF on big dataset (bad idea?)"
      ],
      "metadata": {
        "id": "mitoYg_P6Tb8"
      }
    },
    {
      "cell_type": "code",
      "source": [
        "#Grid Search for the hyperparameters for the Decision Tree\n",
        "start_time_grid_tree = time.time()\n",
        "param_grid_test = {'max_depth': [9,10,11,None],\n",
        "                   'min_samples_leaf': [1,4,8],\n",
        "                   'min_samples_split': [10,15,20]\n",
        "                   }\n",
        "model = tree.DecisionTreeClassifier(random_state=123,criterion='entropy')\n",
        "clf_tree_search = GridSearchCV(estimator = model, param_grid=param_grid_test, cv = 5, scoring = \"accuracy\",verbose=0)\n",
        "clf_tree_search.fit(X_train,Y_train)\n",
        "end_time_grid_tree = time.time()\n",
        "print(\"Best hyperparameters: {}\".format(clf_tree_search.best_params_))\n",
        "print(\"Best accuracy score: {:.5f}\".format(clf_tree_search.best_score_))\n",
        "print(\"Esecution time of the GridSearch: {:.5f}\".format(end_time_grid_tree-start_time_grid_tree))"
      ],
      "metadata": {
        "id": "Wyn8uHiD6YhM",
        "colab": {
          "base_uri": "https://localhost:8080/"
        },
        "outputId": "ae26e20b-3d9c-4910-dbeb-a07cf4d184de"
      },
      "execution_count": 7,
      "outputs": [
        {
          "output_type": "stream",
          "name": "stdout",
          "text": [
            "Best hyperparameters: {'max_depth': 11, 'min_samples_leaf': 8, 'min_samples_split': 20}\n",
            "Best accuracy score: 0.81004\n",
            "Esecution time of the GridSearch: 4281.23837\n"
          ]
        }
      ]
    },
    {
      "cell_type": "code",
      "source": [
        "#Grid Search for the hyperparameters for the Random Forest\n",
        "start_time_grid_forest = time.time()\n",
        "param_grid_test = {'n_estimators':[50,100], \n",
        "                   'max_depth': [5,None], \n",
        "                   'min_samples_leaf': [1,10],\n",
        "                   'min_samples_split': [2,10]\n",
        "                   }\n",
        "model = RandomForestClassifier(random_state=123,criterion='entropy')\n",
        "clf_random_forest_search = GridSearchCV(estimator = model, param_grid=param_grid_test, cv = 5, scoring = \"accuracy\",verbose=0)\n",
        "clf_random_forest_search.fit(X_train,Y_train)\n",
        "end_time_grid_forest = time.time()\n",
        "print(\"Best hyperparameters: {}\".format(clf_random_forest_search.best_params_))\n",
        "print(\"Best accuracy score: {:.5f}\".format(clf_random_forest_search.best_score_))\n",
        "print(\"Esecution time of the GridSearch: {:.5f}\".format(end_time_grid_forest-start_time_grid_forest))"
      ],
      "metadata": {
        "id": "3JaBcDFP6bRw",
        "colab": {
          "base_uri": "https://localhost:8080/"
        },
        "outputId": "1bddece7-b167-4009-c6dd-ad72d74da14f"
      },
      "execution_count": 18,
      "outputs": [
        {
          "output_type": "stream",
          "name": "stdout",
          "text": [
            "Best hyperparameters: {'max_depth': None, 'min_samples_leaf': 1, 'min_samples_split': 2, 'n_estimators': 100}\n",
            "Best accuracy score: 0.88078\n",
            "Esecution time of the GridSearch: 3427.12401\n"
          ]
        }
      ]
    },
    {
      "cell_type": "markdown",
      "source": [
        "## Decision Tree Function"
      ],
      "metadata": {
        "id": "jGfjLGw1SYuZ"
      }
    },
    {
      "cell_type": "code",
      "source": [
        "def tree_function(md=11,msl=5,mss=18,small=False,preprocessing=False, confusion=False):\n",
        "#Best hyperparameters: {'max_depth': 11, 'min_samples_leaf': 8, 'min_samples_split': 20}\n",
        "  start_time_tree=time.time()\n",
        "  accuracy_values_train = []\n",
        "  accuracy_values_val = []\n",
        "  accuracy_values_test = []\n",
        "\n",
        "  if small==False and preprocessing==False:\n",
        "    clf_tree=tree.DecisionTreeClassifier(random_state=123, criterion='entropy', max_depth = md, min_samples_leaf = msl, min_samples_split = mss )\n",
        "    clf_tree.fit(X_train,Y_train)\n",
        "    y_pred_tree_train=clf_tree.predict(X_train) \n",
        "    y_pred_tree_val=clf_tree.predict(X_val)\n",
        "    y_pred_tree_test=clf_tree.predict(X_test)\n",
        "    print(\"Decision Tree without preprocessing\")\n",
        "    accuracy_values_train.append(accuracy_score(Y_train,y_pred_tree_train)) \n",
        "    accuracy_values_val.append(accuracy_score(Y_val,y_pred_tree_val)) \n",
        "    accuracy_values_test.append(accuracy_score(Y_test,y_pred_tree_test))\n",
        "    if confusion:\n",
        "      confusion_matrix_tree = confusion_matrix(Y_test, y_pred_tree_test, labels=clf_tree_search.classes_)\n",
        "      print('TREE: confusion matrix')\n",
        "      disp = ConfusionMatrixDisplay(confusion_matrix=confusion_matrix_tree, display_labels=clf_tree.classes_)\n",
        "      disp.plot()\n",
        "      plt.show()\n",
        "\n",
        "  if small==False and preprocessing==\"MinMax\":\n",
        "    clf_tree_minmax=tree.DecisionTreeClassifier(random_state=123, criterion='entropy', max_depth = md, min_samples_leaf = msl, min_samples_split = mss ) \n",
        "    clf_tree_minmax.fit(X_train_minmax,Y_train)\n",
        "    y_pred_tree_train_minmax=clf_tree_minmax.predict(X_train_minmax)\n",
        "    y_pred_tree_val_minmax=clf_tree_minmax.predict(X_val_minmax)\n",
        "    y_pred_tree_test_minmax=clf_tree_minmax.predict(X_val_minmax)\n",
        "    print(f\"Decision Tree with minmax scaler data\")\n",
        "    accuracy_values_train.append(accuracy_score(Y_train,y_pred_tree_train_minmax)) \n",
        "    accuracy_values_val.append(accuracy_score(Y_val,y_pred_tree_val_minmax)) \n",
        "    accuracy_values_test.append(accuracy_score(Y_test,y_pred_tree_test_minmax))\n",
        "\n",
        "  if small==False  and preprocessing==\"Standard\":\n",
        "    clf_tree_standard=tree.DecisionTreeClassifier(random_state=123,criterion='entropy', max_depth = md, min_samples_leaf = msl, min_samples_split = mss ) \n",
        "    clf_tree_standard.fit(X_train_standard,Y_train)\n",
        "    y_pred_tree_train_standard=clf_tree_standard.predict(X_train_standard) \n",
        "    y_pred_tree_val_standard=clf_tree_standard.predict(X_val_standard)\n",
        "    y_pred_tree_test_standard=clf_tree_standard.predict(X_test_standard)\n",
        "    print(\"Decision Tree with Standard scaler data\")\n",
        "    accuracy_values_train.append(accuracy_score(Y_train,y_pred_tree_train_standard)) \n",
        "    accuracy_values_val.append(accuracy_score(Y_val,y_pred_tree_val_standard)) \n",
        "    accuracy_values_test.append(accuracy_score(Y_test,y_pred_tree_test_standard))\n",
        "\n",
        "  if small==True and preprocessing==False:\n",
        "    clf_tree_small=tree.DecisionTreeClassifier(random_state=123, criterion='entropy', max_depth = md, min_samples_leaf = msl, min_samples_split = mss )\n",
        "    clf_tree_small.fit(X_train_small,Y_train_small)\n",
        "    y_pred_tree_train_small=clf_tree_small.predict(X_train_small) \n",
        "    y_pred_tree_val_small=clf_tree_small.predict(X_val_small)\n",
        "    y_pred_tree_test_small=clf_tree_small.predict(X_test_small)\n",
        "    print(\"Decision Tree on small dataset and without preprocessing\")\n",
        "    accuracy_values_train.append(accuracy_score(Y_train_small,y_pred_tree_train_small)) \n",
        "    accuracy_values_val.append(accuracy_score(Y_val_small,y_pred_tree_val_small)) \n",
        "    accuracy_values_test.append(accuracy_score(Y_test_small,y_pred_tree_test_small))\n",
        "\n",
        "  if small==True and preprocessing==\"MinMax\":\n",
        "    clf_tree_small_minmax=tree.DecisionTreeClassifier(random_state=123, criterion='entropy', max_depth = md, min_samples_leaf = msl, min_samples_split = mss ) \n",
        "    clf_tree_small_minmax.fit(X_train_small_minmax,Y_train_small)\n",
        "    y_pred_tree_train_small_minmax=clf_tree_small_minmax.predict(X_train_small_minmax)\n",
        "    y_pred_tree_val_small_minmax=clf_tree_small_minmax.predict(X_val_small_minmax)\n",
        "    y_pred_tree_test_small_minmax=clf_tree_small_minmax.predict(X_test_small_minmax)\n",
        "    print(f\"Decision Tree on small dataset with minmax scaler data\")\n",
        "    accuracy_values_train.append(accuracy_score(Y_train_small,y_pred_tree_train_small_minmax)) \n",
        "    accuracy_values_val.append(accuracy_score(Y_val_small,y_pred_tree_val_small_minmax)) \n",
        "    accuracy_values_test.append(accuracy_score(Y_test_small,y_pred_tree_test_small_minmax))\n",
        "\n",
        "  if small==True and preprocessing==\"Standard\":\n",
        "    clf_tree_small_standard=tree.DecisionTreeClassifier(random_state=123,criterion='entropy', max_depth = md, min_samples_leaf = msl, min_samples_split = mss ) \n",
        "    clf_tree_small_standard.fit(X_train_small_standard,Y_train_small)\n",
        "    y_pred_tree_train_small_standard=clf_tree_small_standard.predict(X_train_small_standard) \n",
        "    y_pred_tree_val_small_standard=clf_tree_small_standard.predict(X_val_small_standard)\n",
        "    y_pred_tree_test_small_standard=clf_tree_small_standard.predict(X_test_small_standard)\n",
        "    print(f\"Decision Tree on small dataset with Standard scaler data\")\n",
        "    accuracy_values_train.append(accuracy_score(Y_train_small,y_pred_tree_train_small_standard)) \n",
        "    accuracy_values_val.append(accuracy_score(Y_val_small,y_pred_tree_val_small_standard)) \n",
        "    accuracy_values_test.append(accuracy_score(Y_test_small,y_pred_tree_test_small_standard))\n",
        "\n",
        "  end_time_tree=time.time()\n",
        "  print(\"Execution time: %s\" %(end_time_tree-start_time_tree))\n",
        "  print(\"Accuracy on the Training set: %s\" %accuracy_values_train[0])\n",
        "  print(\"Accuracy on the Validation set: %s\" %accuracy_values_val[0])\n",
        "  print(\"Accuracy on the Test set: %s\" %accuracy_values_test[0])\n",
        "\n",
        "  return accuracy_values_train[0],accuracy_values_val[0], accuracy_values_test[0]\n"
      ],
      "metadata": {
        "id": "YKR4pF_z60nn"
      },
      "execution_count": 37,
      "outputs": []
    },
    {
      "cell_type": "markdown",
      "source": [
        "## Decision Tree with max depth: 11, min samples leaf: 5, min samples split: 18"
      ],
      "metadata": {
        "id": "_PcjXR8gUAVh"
      }
    },
    {
      "cell_type": "markdown",
      "source": [
        "Nowe we can see how the decision tree with hyperparameters max depth: 11, min samples leaf: 5, min samples split: 18\n",
        "perform on both the small and the big dataset. (atually the small was already done but we add the preprocessing now) "
      ],
      "metadata": {
        "id": "ZIFOMQTE6paL"
      }
    },
    {
      "cell_type": "code",
      "source": [
        "#small dataset\n",
        "start_time = time.time()\n",
        "s = True\n",
        "acc_val = 0\n",
        "acc_train = 0\n",
        "acc_test = 0\n",
        "k_opt = 0\n",
        "\n",
        "\n",
        "for prep in [False,\"MinMax\",\"Standard\"]:\n",
        "  start_tree_time = time.time()\n",
        "  result = tree_function(small=s,preprocessing=prep)\n",
        "  end_tree_time = time.time()\n",
        "  if result[1] > acc_val:\n",
        "        acc_test = result[2]\n",
        "        acc_val = result[1]\n",
        "        acc_train = result[0]\n",
        "        optimal_hyperparameter = prep\n",
        "        print(\"Optimal hyperparameters adjusted!\")\n",
        "  #print(\"Iteration execution time: {:.5f}\".format(end_tree_time-start_tree_time))\n",
        "  print(\"-------------------------------------------------------------------\")\n",
        "\n",
        "print(\"Optimal hyperparameter is : {}\".format(optimal_hyperparameter))\n",
        "print(\"The optimal parameter produce accuracy train: {}, accuracy validation: {} and accuracy test: {}\".format(acc_train,acc_val,acc_test))\n",
        "end_time = time.time() \n",
        "print(\"Execution time: {:.5f}\".format(end_time-start_time))"
      ],
      "metadata": {
        "id": "ZteuzEBemNrY",
        "colab": {
          "base_uri": "https://localhost:8080/"
        },
        "outputId": "d351124b-27c3-42c5-e5b3-e090d9a9f160"
      },
      "execution_count": 25,
      "outputs": [
        {
          "output_type": "stream",
          "name": "stdout",
          "text": [
            "Decision Tree on small dataset and without preprocessing\n",
            "Execution time: 6.6731061935424805\n",
            "Accuracy on the Training set: 0.8829\n",
            "Accuracy on the Validation set: 0.7735\n",
            "Accuracy on the Test set: 0.776\n",
            "Optimal hyperparameters adjusted!\n",
            "-------------------------------------------------------------------\n",
            "Decision Tree on small dataset with minmax scaler data\n",
            "Execution time: 6.7036402225494385\n",
            "Accuracy on the Training set: 0.8829\n",
            "Accuracy on the Validation set: 0.7735\n",
            "Accuracy on the Test set: 0.7765\n",
            "-------------------------------------------------------------------\n",
            "Decision Tree on small dataset with Standard scaler data\n",
            "Execution time: 6.755480051040649\n",
            "Accuracy on the Training set: 0.8829\n",
            "Accuracy on the Validation set: 0.7735\n",
            "Accuracy on the Test set: 0.776\n",
            "-------------------------------------------------------------------\n",
            "Optimal hyperparameter is : False\n",
            "The optimal parameter produce accuracy train: 0.8829, accuracy validation: 0.7735 and accuracy test: 0.776\n",
            "Execution time: 20.13876\n"
          ]
        }
      ]
    },
    {
      "cell_type": "code",
      "source": [
        "#big dataset\n",
        "\n",
        "start_time = time.time()\n",
        "s = False\n",
        "acc_val = 0\n",
        "acc_train = 0\n",
        "acc_test = 0\n",
        "k_opt = 0\n",
        "\n",
        "\n",
        "for prep in [False,\"MinMax\",\"Standard\"]:\n",
        "  start_tree_time = time.time()\n",
        "  result = tree_function(small=s,preprocessing=prep)\n",
        "  end_tree_time = time.time()\n",
        "  if result[1] > acc_val:\n",
        "        acc_test = result[2]\n",
        "        acc_val = result[1]\n",
        "        acc_train = result[0]\n",
        "        optimal_hyperparameter = prep\n",
        "        print(\"Optimal hyperparameters adjusted!\")\n",
        "  print(\"Iteration execution time: {:.5f}\".format(end_tree_time-start_tree_time))\n",
        "  print(\"-------------------------------------------------------------------\")\n",
        "\n",
        "print(\"Optimal hyperparameter is : {}\".format(optimal_hyperparameter))\n",
        "print(\"The optimal parameter produce accuracy train: {}, accuracy validation: {} and accuracy test: {}\".format(acc_train,acc_val,acc_test))\n",
        "end_time = time.time() \n",
        "print(\"Execution time: {:.5f}\".format(end_time-start_time))"
      ],
      "metadata": {
        "id": "bXFMK9o09Q_w",
        "colab": {
          "base_uri": "https://localhost:8080/"
        },
        "outputId": "95794ecf-f68c-4b40-e2f0-2866bcfa5560"
      },
      "execution_count": 26,
      "outputs": [
        {
          "output_type": "stream",
          "name": "stdout",
          "text": [
            "Decision Tree without preprocessing\n",
            "Execution time: 28.404871463775635\n",
            "Accuracy on the Training set: 0.85984\n",
            "Accuracy on the Validation set: 0.8117\n",
            "Accuracy on the Test set: 0.8071\n",
            "Optimal hyperparameters adjusted!\n",
            "Iteration execution time: 28.40511\n",
            "-------------------------------------------------------------------\n",
            "Decision Tree with minmax scaler data\n",
            "Execution time: 27.80117106437683\n",
            "Accuracy on the Training set: 0.85984\n",
            "Accuracy on the Validation set: 0.8116\n",
            "Accuracy on the Test set: 0.1024\n",
            "Iteration execution time: 27.80139\n",
            "-------------------------------------------------------------------\n",
            "Decision Tree with Standard scaler data\n",
            "Execution time: 27.845151901245117\n",
            "Accuracy on the Training set: 0.85984\n",
            "Accuracy on the Validation set: 0.8117\n",
            "Accuracy on the Test set: 0.8072\n",
            "Iteration execution time: 27.84539\n",
            "-------------------------------------------------------------------\n",
            "Optimal hyperparameter is : False\n",
            "The optimal parameter produce accuracy train: 0.85984, accuracy validation: 0.8117 and accuracy test: 0.8071\n",
            "Execution time: 84.05625\n"
          ]
        }
      ]
    },
    {
      "cell_type": "markdown",
      "source": [
        "## Decision Tree with max depth: 11, min samples leaf: 8, min samples split: 20"
      ],
      "metadata": {
        "id": "2i2rxz3uT5v5"
      }
    },
    {
      "cell_type": "markdown",
      "source": [
        "Nowe we can see how the decision tree with hyperparameters max depth: max depth: 11, min samples leaf: 8, min samples split: 20 perform on both the small and the big dataset. (atually the small was already done but we add the preprocessing now)"
      ],
      "metadata": {
        "id": "6d1XjVXsT1tE"
      }
    },
    {
      "cell_type": "code",
      "source": [
        "#small dataset\n",
        "start_time = time.time()\n",
        "s = True\n",
        "acc_val = 0\n",
        "acc_train = 0\n",
        "acc_test = 0\n",
        "k_opt = 0\n",
        "\n",
        "for prep in [False,\"MinMax\",\"Standard\"]:\n",
        "  start_tree_time = time.time()\n",
        "  result = tree_function(md=11,msl=8,mss=20, small=s,preprocessing=prep)\n",
        "  end_tree_time = time.time()\n",
        "  if result[1] > acc_val:\n",
        "        acc_test = result[2]\n",
        "        acc_val = result[1]\n",
        "        acc_train = result[0]\n",
        "        optimal_hyperparameter = prep\n",
        "        print(\"Optimal hyperparameters adjusted!\")\n",
        "  #print(\"Iteration execution time: {:.5f}\".format(end_tree_time-start_tree_time))\n",
        "  print(\"-------------------------------------------------------------------\")\n",
        "\n",
        "print(\"Optimal hyperparameter is : {}\".format(optimal_hyperparameter))\n",
        "print(\"The optimal parameter produce accuracy train: {}, accuracy validation: {} and accuracy test: {}\".format(acc_train,acc_val,acc_test))\n",
        "end_time = time.time() \n",
        "print(\"Execution time: {:.5f}\".format(end_time-start_time))"
      ],
      "metadata": {
        "colab": {
          "base_uri": "https://localhost:8080/"
        },
        "outputId": "fbacc606-ff82-4bb3-f4d2-2e702302a554",
        "id": "VO10hkF6UVa5"
      },
      "execution_count": 38,
      "outputs": [
        {
          "output_type": "stream",
          "name": "stdout",
          "text": [
            "Decision Tree on small dataset and without preprocessing\n",
            "Execution time: 5.478425979614258\n",
            "Accuracy on the Training set: 0.874\n",
            "Accuracy on the Validation set: 0.7825\n",
            "Accuracy on the Test set: 0.776\n",
            "Optimal hyperparameters adjusted!\n",
            "-------------------------------------------------------------------\n",
            "Decision Tree on small dataset with minmax scaler data\n",
            "Execution time: 6.22128963470459\n",
            "Accuracy on the Training set: 0.874\n",
            "Accuracy on the Validation set: 0.7825\n",
            "Accuracy on the Test set: 0.7765\n",
            "-------------------------------------------------------------------\n",
            "Decision Tree on small dataset with Standard scaler data\n",
            "Execution time: 5.402158498764038\n",
            "Accuracy on the Training set: 0.874\n",
            "Accuracy on the Validation set: 0.7825\n",
            "Accuracy on the Test set: 0.776\n",
            "-------------------------------------------------------------------\n",
            "Optimal hyperparameter is : False\n",
            "The optimal parameter produce accuracy train: 0.874, accuracy validation: 0.7825 and accuracy test: 0.776\n",
            "Execution time: 17.10413\n"
          ]
        }
      ]
    },
    {
      "cell_type": "code",
      "source": [
        "#big dataset\n",
        "\n",
        "start_time = time.time()\n",
        "s = False\n",
        "acc_val = 0\n",
        "acc_train = 0\n",
        "acc_test = 0\n",
        "k_opt = 0\n",
        "\n",
        "\n",
        "for prep in [False,\"MinMax\",\"Standard\"]:\n",
        "  start_tree_time = time.time()\n",
        "  result = tree_function(md=11,msl=8,mss=20, small=s,preprocessing=prep)\n",
        "  end_tree_time = time.time()\n",
        "  if result[1] > acc_val:\n",
        "        acc_test = result[2]\n",
        "        acc_val = result[1]\n",
        "        acc_train = result[0]\n",
        "        optimal_hyperparameter = prep\n",
        "        print(\"Optimal hyperparameters adjusted!\")\n",
        "  print(\"Iteration execution time: {:.5f}\".format(end_tree_time-start_tree_time))\n",
        "  print(\"-------------------------------------------------------------------\")\n",
        "\n",
        "print(\"Optimal hyperparameter is : {}\".format(optimal_hyperparameter))\n",
        "print(\"The optimal parameter produce accuracy train: {}, accuracy validation: {} and accuracy test: {}\".format(acc_train,acc_val,acc_test))\n",
        "end_time = time.time() \n",
        "print(\"Execution time: {:.5f}\".format(end_time-start_time))"
      ],
      "metadata": {
        "colab": {
          "base_uri": "https://localhost:8080/"
        },
        "outputId": "d21056b4-6cda-4f63-9921-6c143f59a93a",
        "id": "4C71VXn2UZhX"
      },
      "execution_count": 39,
      "outputs": [
        {
          "output_type": "stream",
          "name": "stdout",
          "text": [
            "Decision Tree without preprocessing\n",
            "Execution time: 23.186370134353638\n",
            "Accuracy on the Training set: 0.85702\n",
            "Accuracy on the Validation set: 0.8107\n",
            "Accuracy on the Test set: 0.807\n",
            "Optimal hyperparameters adjusted!\n",
            "Iteration execution time: 23.18926\n",
            "-------------------------------------------------------------------\n",
            "Decision Tree with minmax scaler data\n",
            "Execution time: 22.67177963256836\n",
            "Accuracy on the Training set: 0.85702\n",
            "Accuracy on the Validation set: 0.8106\n",
            "Accuracy on the Test set: 0.1015\n",
            "Iteration execution time: 22.67195\n",
            "-------------------------------------------------------------------\n",
            "Decision Tree with Standard scaler data\n",
            "Execution time: 22.481699466705322\n",
            "Accuracy on the Training set: 0.85702\n",
            "Accuracy on the Validation set: 0.8107\n",
            "Accuracy on the Test set: 0.8071\n",
            "Iteration execution time: 22.48295\n",
            "-------------------------------------------------------------------\n",
            "Optimal hyperparameter is : False\n",
            "The optimal parameter produce accuracy train: 0.85702, accuracy validation: 0.8107 and accuracy test: 0.807\n",
            "Execution time: 68.34635\n"
          ]
        }
      ]
    },
    {
      "cell_type": "markdown",
      "source": [
        "## Random Forest Function"
      ],
      "metadata": {
        "id": "560IeBVdShIr"
      }
    },
    {
      "cell_type": "code",
      "source": [
        "#Random Forest\n",
        "\n",
        "def forest_function(n=100,md=None,msl=1,mss=2,small=False,preprocessing=False, confusion=False, example=False):\n",
        "#Best hyperparameters: {'max_depth': None, 'min_samples_leaf': 1, 'min_samples_split': 2, 'n_estimators': 100}\n",
        "  start_time_forest=time.time()\n",
        "  accuracy_values_train = []\n",
        "  accuracy_values_val = []\n",
        "  accuracy_values_test = []\n",
        "\n",
        "  if small==False and preprocessing==False:\n",
        "    clf_forest=RandomForestClassifier(random_state=123, criterion='entropy', max_depth = md, min_samples_leaf = msl, min_samples_split = mss )\n",
        "    clf_forest.fit(X_train,Y_train)\n",
        "    y_pred_forest_train=clf_forest.predict(X_train) \n",
        "    y_pred_forest_val=clf_forest.predict(X_val)\n",
        "    y_pred_forest_test=clf_forest.predict(X_test)\n",
        "    print(\"Random forest without preprocessing\")\n",
        "    accuracy_values_train.append(accuracy_score(Y_train,y_pred_forest_train)) \n",
        "    accuracy_values_val.append(accuracy_score(Y_val,y_pred_forest_val)) \n",
        "    accuracy_values_test.append(accuracy_score(Y_test,y_pred_forest_test))\n",
        "\n",
        "    if confusion:\n",
        "      confusion_matrix_forest = confusion_matrix(Y_test, y_pred_forest_test, labels=clf_random_forest_search.classes_)\n",
        "      print('FOREST: confusion matrix')\n",
        "      disp = ConfusionMatrixDisplay(confusion_matrix=confusion_matrix_forest, display_labels=clf_forest.classes_)\n",
        "      disp.plot()\n",
        "      plt.show()\n",
        "\n",
        "    if example:\n",
        "      indices = np.all([ (Y_val[1100:1500]==6), (y_pred_forest_val[1100:1500]==0) ], axis=0) \n",
        "      _, axes = plt.subplots(nrows=1, ncols=sum(indices==True), figsize=(20, 6))\n",
        "      for ax, x, label, pred_label in zip(axes, X_val[1100:1500][indices], Y_val[1100:1500][indices], y_pred_forest_val[1100:1500][indices]):\n",
        "        ax.set_axis_off()\n",
        "        ax.imshow(x.reshape(28,28), cmap=plt.cm.gray_r, interpolation=\"nearest\")\n",
        "        ax.set_title(\"True: %s\\nPred: %s\" % (labels_name[label], labels_name[pred_label]))\n",
        "\n",
        "  if small==False and preprocessing==\"MinMax\":\n",
        "    clf_forest_minmax=RandomForestClassifier(random_state=123, criterion='entropy', max_depth = md, min_samples_leaf = msl, min_samples_split = mss ) \n",
        "    clf_forest_minmax.fit(X_train_minmax,Y_train)\n",
        "    y_pred_forest_train_minmax=clf_forest_minmax.predict(X_train_minmax)\n",
        "    y_pred_forest_val_minmax=clf_forest_minmax.predict(X_val_minmax)\n",
        "    y_pred_forest_test_minmax=clf_forest_minmax.predict(X_val_minmax)\n",
        "    print(f\"Random forest with minmax scaler data\")\n",
        "    accuracy_values_train.append(accuracy_score(Y_train,y_pred_forest_train_minmax)) \n",
        "    accuracy_values_val.append(accuracy_score(Y_val,y_pred_forest_val_minmax)) \n",
        "    accuracy_values_test.append(accuracy_score(Y_test,y_pred_forest_test_minmax))\n",
        "\n",
        "  if small==False  and preprocessing==\"Standard\":\n",
        "    clf_forest_standard=RandomForestClassifier(random_state=123,criterion='entropy', max_depth = md, min_samples_leaf = msl, min_samples_split = mss ) \n",
        "    clf_forest_standard.fit(X_train_standard,Y_train)\n",
        "    y_pred_forest_train_standard=clf_forest_standard.predict(X_train_standard) \n",
        "    y_pred_forest_val_standard=clf_forest_standard.predict(X_val_standard)\n",
        "    y_pred_forest_test_standard=clf_forest_standard.predict(X_test_standard)\n",
        "    print(\"Random forest with Standard scaler data\")\n",
        "    accuracy_values_train.append(accuracy_score(Y_train,y_pred_forest_train_standard)) \n",
        "    accuracy_values_val.append(accuracy_score(Y_val,y_pred_forest_val_standard)) \n",
        "    accuracy_values_test.append(accuracy_score(Y_test,y_pred_forest_test_standard))\n",
        "\n",
        "  if small==True and preprocessing==False:\n",
        "    clf_forest_small=RandomForestClassifier(random_state=123, criterion='entropy', max_depth = md, min_samples_leaf = msl, min_samples_split = mss )\n",
        "    clf_forest_small.fit(X_train_small,Y_train_small)\n",
        "    y_pred_forest_train_small=clf_forest_small.predict(X_train_small) \n",
        "    y_pred_forest_val_small=clf_forest_small.predict(X_val_small)\n",
        "    y_pred_forest_test_small=clf_forest_small.predict(X_test_small)\n",
        "    print(\"Random forest on small dataset and without preprocessing\")\n",
        "    accuracy_values_train.append(accuracy_score(Y_train_small,y_pred_forest_train_small)) \n",
        "    accuracy_values_val.append(accuracy_score(Y_val_small,y_pred_forest_val_small)) \n",
        "    accuracy_values_test.append(accuracy_score(Y_test_small,y_pred_forest_test_small))\n",
        "\n",
        "  if small==True and preprocessing==\"MinMax\":\n",
        "    clf_forest_small_minmax=RandomForestClassifier(random_state=123, criterion='entropy', max_depth = md, min_samples_leaf = msl, min_samples_split = mss ) \n",
        "    clf_forest_small_minmax.fit(X_train_small_minmax,Y_train_small)\n",
        "    y_pred_forest_train_small_minmax=clf_forest_small_minmax.predict(X_train_small_minmax)\n",
        "    y_pred_forest_val_small_minmax=clf_forest_small_minmax.predict(X_val_small_minmax)\n",
        "    y_pred_forest_test_small_minmax=clf_forest_small_minmax.predict(X_test_small_minmax)\n",
        "    print(f\"Random forest on small dataset with minmax scaler data\")\n",
        "    accuracy_values_train.append(accuracy_score(Y_train_small,y_pred_forest_train_small_minmax)) \n",
        "    accuracy_values_val.append(accuracy_score(Y_val_small,y_pred_forest_val_small_minmax)) \n",
        "    accuracy_values_test.append(accuracy_score(Y_test_small,y_pred_forest_test_small_minmax))\n",
        "\n",
        "  if small==True and preprocessing==\"Standard\":\n",
        "    clf_forest_small_standard=RandomForestClassifier(random_state=123,criterion='entropy', max_depth = md, min_samples_leaf = msl, min_samples_split = mss ) \n",
        "    clf_forest_small_standard.fit(X_train_small_standard,Y_train_small)\n",
        "    y_pred_forest_train_small_standard=clf_forest_small_standard.predict(X_train_small_standard) \n",
        "    y_pred_forest_val_small_standard=clf_forest_small_standard.predict(X_val_small_standard)\n",
        "    y_pred_forest_test_small_standard=clf_forest_small_standard.predict(X_test_small_standard)\n",
        "    print(f\"Random forest on small dataset with Standard scaler data\")\n",
        "    accuracy_values_train.append(accuracy_score(Y_train_small,y_pred_forest_train_small_standard)) \n",
        "    accuracy_values_val.append(accuracy_score(Y_val_small,y_pred_forest_val_small_standard)) \n",
        "    accuracy_values_test.append(accuracy_score(Y_test_small,y_pred_forest_test_small_standard))\n",
        "\n",
        "  end_time_forest=time.time()\n",
        "  print(\"Execution time: %s\" %(end_time_forest-start_time_forest))\n",
        "  print(\"Accuracy on the Training set: %s\" %accuracy_values_train[0])\n",
        "  print(\"Accuracy on the Validation set: %s\" %accuracy_values_val[0])\n",
        "  print(\"Accuracy on the Test set: %s\" %accuracy_values_test[0])\n",
        "\n",
        "  return accuracy_values_train[0],accuracy_values_val[0], accuracy_values_test[0]\n"
      ],
      "metadata": {
        "id": "yLXc_HMVn-GK"
      },
      "execution_count": 46,
      "outputs": []
    },
    {
      "cell_type": "markdown",
      "source": [
        "## Random forest with number of estimators: 100, max depth: None, min samples leaf: 1, min samples split: 2"
      ],
      "metadata": {
        "id": "j7jwCeRvWjeR"
      }
    },
    {
      "cell_type": "markdown",
      "source": [
        "Now we will see how the Random forest goes on the small dataset."
      ],
      "metadata": {
        "id": "qf2DEda47-TN"
      }
    },
    {
      "cell_type": "code",
      "source": [
        "#big dataset\n",
        "\n",
        "start_time = time.time()\n",
        "s = True\n",
        "acc_val = 0\n",
        "acc_train = 0\n",
        "acc_test = 0\n",
        "k_opt = 0\n",
        "optimal_hyperparameter = None\n",
        "\n",
        "for prep in [False,\"MinMax\",\"Standard\"]:\n",
        "  result = forest_function(small=s,preprocessing=prep)\n",
        "  end_tree_time = time.time()\n",
        "  if result[1] > acc_val:\n",
        "    acc_test = result[2]\n",
        "    acc_val = result[1]\n",
        "    acc_train = result[0]\n",
        "    optimal_hyperparameter = prep\n",
        "  print(\"Optimal hyperparameter adjusted!\")\n",
        "  print(\"-------------------------------------------------------------------\")\n",
        "\n",
        "print(\"Optimal hyperparameter is : {}\".format(optimal_hyperparameter))\n",
        "print(\"The optimal parameter produce accuracy train: {}, accuracy validation: {} and accuracy test: {}\".format(acc_train,acc_val,acc_test))\n",
        "end_time = time.time() \n",
        "print(\"Execution time: {:.5f}\".format(end_time-start_time))"
      ],
      "metadata": {
        "id": "E6V4iEmSpWhY",
        "colab": {
          "base_uri": "https://localhost:8080/"
        },
        "outputId": "df704c4b-8af0-4352-ae6e-328626b6d660"
      },
      "execution_count": 28,
      "outputs": [
        {
          "output_type": "stream",
          "name": "stdout",
          "text": [
            "Random forest on small dataset and without preprocessing\n",
            "Execution time: 21.969738721847534\n",
            "Accuracy on the Training set: 1.0\n",
            "Accuracy on the Validation set: 0.8655\n",
            "Accuracy on the Test set: 0.8545\n",
            "Optimal hyperparameter adjusted!\n",
            "-------------------------------------------------------------------\n",
            "Random forest on small dataset with minmax scaler data\n",
            "Execution time: 21.983783960342407\n",
            "Accuracy on the Training set: 1.0\n",
            "Accuracy on the Validation set: 0.866\n",
            "Accuracy on the Test set: 0.8545\n",
            "Optimal hyperparameter adjusted!\n",
            "-------------------------------------------------------------------\n",
            "Random forest on small dataset with Standard scaler data\n",
            "Execution time: 21.993972778320312\n",
            "Accuracy on the Training set: 1.0\n",
            "Accuracy on the Validation set: 0.864\n",
            "Accuracy on the Test set: 0.8545\n",
            "Optimal hyperparameter adjusted!\n",
            "-------------------------------------------------------------------\n",
            "Optimal hyperparameter is : MinMax\n",
            "The optimal parameter produce accuracy train: 1.0, accuracy validation: 0.866 and accuracy test: 0.8545\n",
            "Execution time: 65.95726\n"
          ]
        }
      ]
    },
    {
      "cell_type": "markdown",
      "source": [
        "As we just did but on the big dataset."
      ],
      "metadata": {
        "id": "5yXRjipQ8EfC"
      }
    },
    {
      "cell_type": "code",
      "source": [
        "#big dataset\n",
        "\n",
        "start_time = time.time()\n",
        "s = False\n",
        "acc_val = 0\n",
        "acc_train = 0\n",
        "acc_test = 0\n",
        "k_opt = 0\n",
        "optimal_hyperparameter = None\n",
        "\n",
        "for prep in [False,\"MinMax\",\"Standard\"]:\n",
        "  result = forest_function(small=s,preprocessing=prep)\n",
        "  end_tree_time = time.time()\n",
        "  if result[1] > acc_val:\n",
        "    acc_test = result[2]\n",
        "    acc_val = result[1]\n",
        "    acc_train = result[0]\n",
        "    optimal_hyperparameter = prep\n",
        "  print(\"Optimal hyperparameter adjusted!\")\n",
        "  print(\"-------------------------------------------------------------------\")\n",
        "\n",
        "print(\"Optimal hyperparameter is : {}\".format(optimal_hyperparameter))\n",
        "print(\"The optimal parameter produce accuracy train: {}, accuracy validation: {} and accuracy test: {}\".format(acc_train,acc_val,acc_test))\n",
        "end_time = time.time() \n",
        "print(\"Execution time: {:.5f}\".format(end_time-start_time))"
      ],
      "metadata": {
        "id": "NqXPwwfi6Cfm",
        "colab": {
          "base_uri": "https://localhost:8080/"
        },
        "outputId": "fcdf2970-442c-471c-c362-d1382505e1d6"
      },
      "execution_count": 30,
      "outputs": [
        {
          "output_type": "stream",
          "name": "stdout",
          "text": [
            "Random forest without preprocessing\n",
            "Execution time: 122.8397376537323\n",
            "Accuracy on the Training set: 1.0\n",
            "Accuracy on the Validation set: 0.8815\n",
            "Accuracy on the Test set: 0.8766\n",
            "Optimal hyperparameter adjusted!\n",
            "-------------------------------------------------------------------\n",
            "Random forest with minmax scaler data\n",
            "Execution time: 124.05996823310852\n",
            "Accuracy on the Training set: 1.0\n",
            "Accuracy on the Validation set: 0.8812\n",
            "Accuracy on the Test set: 0.1026\n",
            "Optimal hyperparameter adjusted!\n",
            "-------------------------------------------------------------------\n",
            "Random forest with Standard scaler data\n",
            "Execution time: 121.70955538749695\n",
            "Accuracy on the Training set: 1.0\n",
            "Accuracy on the Validation set: 0.8814\n",
            "Accuracy on the Test set: 0.8767\n",
            "Optimal hyperparameter adjusted!\n",
            "-------------------------------------------------------------------\n",
            "Optimal hyperparameter is : False\n",
            "The optimal parameter produce accuracy train: 1.0, accuracy validation: 0.8815 and accuracy test: 0.8766\n",
            "Execution time: 368.67640\n"
          ]
        }
      ]
    },
    {
      "cell_type": "markdown",
      "source": [
        "## Random forest: one try with max depth small"
      ],
      "metadata": {
        "id": "94V1WoP4cVvB"
      }
    },
    {
      "cell_type": "code",
      "source": [
        "#big dataset\n",
        "\n",
        "depths = [4,5,6,7,8,9,10,11,12,14,17,20,25,50]\n",
        "acc_train = []\n",
        "acc_val = []\n",
        "acc_test = []\n",
        "start_start_time = time.time()\n",
        "\n",
        "#accuracy_values_train[0],accuracy_values_val[0], accuracy_values_test[0]\n",
        "\n",
        "for maximumdepth in depths:\n",
        "  print(\"The next iteration is with max depth: {}\".format(maximumdepth))\n",
        "  start_time = time.time()\n",
        "  result = forest_function(md=maximumdepth,small=False,preprocessing=False)\n",
        "  acc_test.append(result[2])\n",
        "  acc_val.append(result[1])\n",
        "  acc_train.append(result[0])\n",
        "  end_time = time.time()\n",
        "  print(\"Iteration Execution time: {:.5f}\".format(end_time-start_time))\n",
        "  print(\"-------------------------------------------------------------------\")\n",
        "\n",
        "\n",
        "#plot\n",
        "fig = plt.figure(figsize=(10,8))\n",
        "plt.plot(depths, acc_train, label=\"train\")\n",
        "plt.plot(depths, acc_val, label=\"val\")\n",
        "plt.plot(depths, acc_test, label=\"test\")\n",
        "plt.xlabel(\"Max Depth\")\n",
        "plt.ylabel(\"Accuracy\")\n",
        "plt.legend()\n",
        "plt.show()\n",
        "\n",
        "end_end_time = time.time() \n",
        "print(\"Execution time: {:.5f}\".format(end_end_time-start_start_time))\n",
        "\n"
      ],
      "metadata": {
        "colab": {
          "base_uri": "https://localhost:8080/",
          "height": 1000
        },
        "id": "KDinA-LreeSJ",
        "outputId": "65ed395f-cdc4-4b7f-bb52-b2fd931ba5c6"
      },
      "execution_count": 53,
      "outputs": [
        {
          "output_type": "stream",
          "name": "stdout",
          "text": [
            "The next iteration is with max depth: 4\n",
            "Random forest without preprocessing\n",
            "Execution time: 19.676917791366577\n",
            "Accuracy on the Training set: 0.74838\n",
            "Accuracy on the Validation set: 0.7432\n",
            "Accuracy on the Test set: 0.7363\n",
            "Iteration Execution time: 19.67722\n",
            "-------------------------------------------------------------------\n",
            "The next iteration is with max depth: 5\n",
            "Random forest without preprocessing\n",
            "Execution time: 25.070387840270996\n",
            "Accuracy on the Training set: 0.76634\n",
            "Accuracy on the Validation set: 0.7605\n",
            "Accuracy on the Test set: 0.7527\n",
            "Iteration Execution time: 25.07063\n",
            "-------------------------------------------------------------------\n",
            "The next iteration is with max depth: 6\n",
            "Random forest without preprocessing\n",
            "Execution time: 32.120248317718506\n",
            "Accuracy on the Training set: 0.80546\n",
            "Accuracy on the Validation set: 0.7955\n",
            "Accuracy on the Test set: 0.7914\n",
            "Iteration Execution time: 32.12115\n",
            "-------------------------------------------------------------------\n",
            "The next iteration is with max depth: 7\n",
            "Random forest without preprocessing\n",
            "Execution time: 38.56951355934143\n",
            "Accuracy on the Training set: 0.82064\n",
            "Accuracy on the Validation set: 0.8094\n",
            "Accuracy on the Test set: 0.804\n",
            "Iteration Execution time: 38.57051\n",
            "-------------------------------------------------------------------\n",
            "The next iteration is with max depth: 8\n",
            "Random forest without preprocessing\n",
            "Execution time: 44.6436562538147\n",
            "Accuracy on the Training set: 0.8472\n",
            "Accuracy on the Validation set: 0.8324\n",
            "Accuracy on the Test set: 0.8264\n",
            "Iteration Execution time: 44.64447\n",
            "-------------------------------------------------------------------\n",
            "The next iteration is with max depth: 9\n",
            "Random forest without preprocessing\n",
            "Execution time: 52.181729316711426\n",
            "Accuracy on the Training set: 0.86882\n",
            "Accuracy on the Validation set: 0.8447\n",
            "Accuracy on the Test set: 0.8358\n",
            "Iteration Execution time: 52.18412\n",
            "-------------------------------------------------------------------\n",
            "The next iteration is with max depth: 10\n",
            "Random forest without preprocessing\n",
            "Execution time: 58.774131298065186\n",
            "Accuracy on the Training set: 0.88794\n",
            "Accuracy on the Validation set: 0.8527\n",
            "Accuracy on the Test set: 0.8452\n",
            "Iteration Execution time: 58.77750\n",
            "-------------------------------------------------------------------\n",
            "The next iteration is with max depth: 11\n",
            "Random forest without preprocessing\n",
            "Execution time: 65.62375545501709\n",
            "Accuracy on the Training set: 0.9079\n",
            "Accuracy on the Validation set: 0.8601\n",
            "Accuracy on the Test set: 0.853\n",
            "Iteration Execution time: 65.62602\n",
            "-------------------------------------------------------------------\n",
            "The next iteration is with max depth: 12\n",
            "Random forest without preprocessing\n",
            "Execution time: 69.69459438323975\n",
            "Accuracy on the Training set: 0.926\n",
            "Accuracy on the Validation set: 0.8663\n",
            "Accuracy on the Test set: 0.8584\n",
            "Iteration Execution time: 69.69690\n",
            "-------------------------------------------------------------------\n",
            "The next iteration is with max depth: 14\n",
            "Random forest without preprocessing\n",
            "Execution time: 80.53604912757874\n",
            "Accuracy on the Training set: 0.96172\n",
            "Accuracy on the Validation set: 0.8719\n",
            "Accuracy on the Test set: 0.8672\n",
            "Iteration Execution time: 80.54489\n",
            "-------------------------------------------------------------------\n",
            "The next iteration is with max depth: 17\n",
            "Random forest without preprocessing\n",
            "Execution time: 89.09452557563782\n",
            "Accuracy on the Training set: 0.99332\n",
            "Accuracy on the Validation set: 0.8795\n",
            "Accuracy on the Test set: 0.8746\n",
            "Iteration Execution time: 89.10469\n",
            "-------------------------------------------------------------------\n",
            "The next iteration is with max depth: 20\n",
            "Random forest without preprocessing\n",
            "Execution time: 90.01652908325195\n",
            "Accuracy on the Training set: 0.99984\n",
            "Accuracy on the Validation set: 0.8797\n",
            "Accuracy on the Test set: 0.8761\n",
            "Iteration Execution time: 90.02674\n",
            "-------------------------------------------------------------------\n",
            "The next iteration is with max depth: 25\n",
            "Random forest without preprocessing\n",
            "Execution time: 90.72291541099548\n",
            "Accuracy on the Training set: 1.0\n",
            "Accuracy on the Validation set: 0.8818\n",
            "Accuracy on the Test set: 0.8742\n",
            "Iteration Execution time: 90.73389\n",
            "-------------------------------------------------------------------\n",
            "The next iteration is with max depth: 50\n",
            "Random forest without preprocessing\n",
            "Execution time: 89.93270325660706\n",
            "Accuracy on the Training set: 1.0\n",
            "Accuracy on the Validation set: 0.8815\n",
            "Accuracy on the Test set: 0.8766\n",
            "Iteration Execution time: 89.94230\n",
            "-------------------------------------------------------------------\n"
          ]
        },
        {
          "output_type": "display_data",
          "data": {
            "text/plain": [
              "<Figure size 720x576 with 1 Axes>"
            ],
            "image/png": "[encoded data removed]"
          },
          "metadata": {
            "needs_background": "light"
          }
        },
        {
          "output_type": "stream",
          "name": "stdout",
          "text": [
            "Execution time: 846.87710\n"
          ]
        }
      ]
    },
    {
      "cell_type": "markdown",
      "source": [
        "## Confusion Matrices and misclassification example"
      ],
      "metadata": {
        "id": "05jucwlYSjML"
      }
    },
    {
      "cell_type": "markdown",
      "source": [
        "Let's study the confusion matrices of decision tree and random forest. We can see that class 0 and 6 are sometimes confused."
      ],
      "metadata": {
        "id": "EgYX3-L28MNe"
      }
    },
    {
      "cell_type": "code",
      "source": [
        "tree_function(small=False, preprocessing=False, confusion=True)\n",
        "print(\"-----------------------------------------------------------\")\n",
        "forest_function(small=False, preprocessing= False, confusion=True)"
      ],
      "metadata": {
        "id": "rgaMugqr8pIE",
        "colab": {
          "base_uri": "https://localhost:8080/",
          "height": 784
        },
        "outputId": "1fad3d4a-7719-4fce-f5b5-be8c7a412b7d"
      },
      "execution_count": 31,
      "outputs": [
        {
          "output_type": "stream",
          "name": "stdout",
          "text": [
            "Decision Tree without preprocessing\n",
            "TREE: confusion matrix\n"
          ]
        },
        {
          "output_type": "display_data",
          "data": {
            "text/plain": [
              "<Figure size 432x288 with 2 Axes>"
            ],
            "image/png": "[encoded data removed]"
          },
          "metadata": {
            "needs_background": "light"
          }
        },
        {
          "output_type": "stream",
          "name": "stdout",
          "text": [
            "Execution time: 32.94416046142578\n",
            "Accuracy on the Training set: 0.85984\n",
            "Accuracy on the Validation set: 0.8117\n",
            "Accuracy on the Test set: 0.8071\n",
            "-----------------------------------------------------------\n",
            "Random forest without preprocessing\n",
            "FOREST: confusion matrix\n"
          ]
        },
        {
          "output_type": "display_data",
          "data": {
            "text/plain": [
              "<Figure size 432x288 with 2 Axes>"
            ],
            "image/png": "[encoded data removed]"
          },
          "metadata": {
            "needs_background": "light"
          }
        },
        {
          "output_type": "stream",
          "name": "stdout",
          "text": [
            "Execution time: 119.71531796455383\n",
            "Accuracy on the Training set: 1.0\n",
            "Accuracy on the Validation set: 0.8815\n",
            "Accuracy on the Test set: 0.8766\n"
          ]
        },
        {
          "output_type": "execute_result",
          "data": {
            "text/plain": [
              "(1.0, 0.8815, 0.8766)"
            ]
          },
          "metadata": {},
          "execution_count": 31
        }
      ]
    },
    {
      "cell_type": "markdown",
      "source": [
        "We can see that some Shirt is confused with T-shirt/top"
      ],
      "metadata": {
        "id": "G5MadACjqn0N"
      }
    },
    {
      "cell_type": "code",
      "source": [
        "forest_function(small=False, preprocessing= False, example=True)"
      ],
      "metadata": {
        "id": "nP-81NDJ9yyG",
        "colab": {
          "base_uri": "https://localhost:8080/",
          "height": 252
        },
        "outputId": "1b5848f3-47ad-420a-cb40-3b9ae59ddbb8"
      },
      "execution_count": 32,
      "outputs": [
        {
          "output_type": "stream",
          "name": "stdout",
          "text": [
            "Random forest without preprocessing\n",
            "Execution time: 120.57630753517151\n",
            "Accuracy on the Training set: 1.0\n",
            "Accuracy on the Validation set: 0.8815\n",
            "Accuracy on the Test set: 0.8766\n"
          ]
        },
        {
          "output_type": "execute_result",
          "data": {
            "text/plain": [
              "(1.0, 0.8815, 0.8766)"
            ]
          },
          "metadata": {},
          "execution_count": 32
        },
        {
          "output_type": "display_data",
          "data": {
            "text/plain": [
              "<Figure size 1440x432 with 11 Axes>"
            ],
            "image/png": "[encoded data removed]"
          },
          "metadata": {
            "needs_background": "light"
          }
        }
      ]
    },
    {
      "cell_type": "markdown",
      "source": [
        "# Support Vector Machine"
      ],
      "metadata": {
        "id": "BRqguffhwYlm"
      }
    },
    {
      "cell_type": "markdown",
      "source": [
        "## Grid Search for SVM"
      ],
      "metadata": {
        "id": "pkXJF_n5xRAR"
      }
    },
    {
      "cell_type": "markdown",
      "source": [
        "As usual, we do a grid search on the small dataset."
      ],
      "metadata": {
        "id": "Ry6bTQWz9Gsq"
      }
    },
    {
      "cell_type": "code",
      "source": [
        "svc_grid_params = {'C': ( 0.1, 1, 10, 100),'kernel': ('rbf', 'linear')}\n",
        "start_time_grid_svm = time.time()\n",
        "model = svm.SVC(random_state = 123)\n",
        "clf_svm = GridSearchCV(estimator = model,param_grid = svc_grid_params, scoring='accuracy',n_jobs= -1, cv = 5, verbose = 1)\n",
        "clf_svm.fit(X_train_small,Y_train_small)\n",
        "end_time_grid_svm = time.time()\n",
        "print(\"Best hyperparameters: {}\".format(clf_svm.best_params_))\n",
        "print(\"Best accuracy score: {:.5f}\".format(clf_svm.best_score_))\n",
        "print(\"Esecution time of the GridSearch: {:.5f}\".format(end_time_grid_svm-start_time_grid_svm))"
      ],
      "metadata": {
        "colab": {
          "base_uri": "https://localhost:8080/"
        },
        "id": "o3hLltRswoaH",
        "outputId": "5156bbea-bbe8-4d95-c94e-3b94d36a3132"
      },
      "execution_count": 39,
      "outputs": [
        {
          "output_type": "stream",
          "name": "stdout",
          "text": [
            "Fitting 5 folds for each of 8 candidates, totalling 40 fits\n",
            "Best hyperparameters: {'C': 10, 'kernel': 'rbf'}\n",
            "Best accuracy score: 0.87230\n",
            "Esecution time of the GridSearch: 658.64441\n"
          ]
        }
      ]
    },
    {
      "cell_type": "markdown",
      "source": [
        "## SVM on the big dataset with the hyperparameter found from the smaller dataset"
      ],
      "metadata": {
        "id": "8a_4rHvVxwgu"
      }
    },
    {
      "cell_type": "code",
      "source": [
        "def svm_function(small=False, preprocessing=False, ker='rbf', c_hpar=10):\n",
        "  start_time_svm=time.time()\n",
        "  accuracy_values_train = []\n",
        "  accuracy_values_val = []\n",
        "  accuracy_values_test = []\n",
        "\n",
        "  if small==False and preprocessing==False:\n",
        "    clf_svm=svm.SVC(random_state = 123, kernel = ker, C=c_hpar)\n",
        "    clf_svm.fit(X_train,Y_train)\n",
        "    print(\"SVM without preprocessing\")\n",
        "    y_pred_svm_train=clf_svm.predict(X_train) \n",
        "    y_pred_svm_val=clf_svm.predict(X_val) \n",
        "    y_pred_svm_test=clf_svm.predict(X_test) \n",
        "    accuracy_values_train.append(accuracy_score(Y_train,y_pred_svm_train)) \n",
        "    accuracy_values_val.append(accuracy_score(Y_val,y_pred_svm_val)) \n",
        "    accuracy_values_test.append(accuracy_score(Y_test,y_pred_svm_test))\n",
        "  \n",
        "  if small==False and preprocessing==\"MinMax\":\n",
        "    clf_svm_minmax=svm.SVC(random_state = 123, kernel = ker, C=c_hpar)\n",
        "    clf_svm_minmax.fit(X_train_minmax,Y_train)\n",
        "    print(\"SVM with MinMax preprocessing\")\n",
        "    y_pred_svm_train_minmax=clf_svm_minmax.predict(X_train_minmax) \n",
        "    y_pred_svm_val_minmax=clf_svm_minmax.predict(X_val_minmax)\n",
        "    y_pred_svm_test_minmax=clf_svm_minmax.predict(X_test_minmax)\n",
        "    accuracy_values_train.append(accuracy_score(Y_train,y_pred_svm_train_minmax)) \n",
        "    accuracy_values_val.append(accuracy_score(Y_val,y_pred_svm_val_minmax)) \n",
        "    accuracy_values_test.append(accuracy_score(Y_test,y_pred_svm_test_minmax))\n",
        "\n",
        "  if small==False and preprocessing==\"Standard\":\n",
        "    clf_svm_standard=svm.SVC(random_state = 123, kernel = ker, C=c_hpar)\n",
        "    clf_svm_standard.fit(X_train_standard,Y_train)\n",
        "    print(\"SVM with Standard Scaler preprocessing\")\n",
        "    y_pred_svm_train_standard=clf_svm_standard.predict(X_train_standard) \n",
        "    y_pred_svm_val_standard=clf_svm_standard.predict(X_val_standard)\n",
        "    y_pred_svm_test_standard=clf_svm_standard.predict(X_test_standard)\n",
        "    accuracy_values_train.append(accuracy_score(Y_train,y_pred_svm_train_standard)) \n",
        "    accuracy_values_val.append(accuracy_score(Y_val,y_pred_svm_val_standard)) \n",
        "    accuracy_values_test.append(accuracy_score(Y_test,y_pred_svm_test_standard))\n",
        "\n",
        "  if small==True and preprocessing==False:\n",
        "    clf_svm=svm.SVC(random_state = 123, kernel = ker, C=c_hpar)\n",
        "    clf_svm.fit(X_train_small,Y_train_small)\n",
        "    print(\"SVM on small dataset without preprocessing\")\n",
        "    y_pred_svm_train=clf_svm.predict(X_train_small) \n",
        "    y_pred_svm_val=clf_svm.predict(X_val_small) \n",
        "    y_pred_svm_test=clf_svm.predict(X_test_small) \n",
        "    accuracy_values_train.append(accuracy_score(Y_train_small,y_pred_svm_train)) \n",
        "    accuracy_values_val.append(accuracy_score(Y_val_small,y_pred_svm_val)) \n",
        "    accuracy_values_test.append(accuracy_score(Y_test_small,y_pred_svm_test))\n",
        "  \n",
        "  if small==True and preprocessing==\"MinMax\":\n",
        "    clf_svm_minmax=svm.SVC(random_state = 123, kernel = ker, C=c_hpar)\n",
        "    clf_svm_minmax.fit(X_train_small_minmax,Y_train_small)\n",
        "    print(\"SVM on small dataset with MinMax preprocessing\")\n",
        "    y_pred_svm_train_minmax=clf_svm_minmax.predict(X_train_small_minmax) \n",
        "    y_pred_svm_val_minmax=clf_svm_minmax.predict(X_val_small_minmax)\n",
        "    y_pred_svm_test_minmax=clf_svm_minmax.predict(X_test_small_minmax)\n",
        "    accuracy_values_train.append(accuracy_score(Y_train_small,y_pred_svm_train_minmax)) \n",
        "    accuracy_values_val.append(accuracy_score(Y_val_small,y_pred_svm_val_minmax)) \n",
        "    accuracy_values_test.append(accuracy_score(Y_test_small,y_pred_svm_test_minmax))\n",
        "\n",
        "  if small==True and preprocessing==\"Standard\":\n",
        "    clf_svm_standard=svm.SVC(random_state = 123, kernel = ker, C=c_hpar)\n",
        "    clf_svm_standard.fit(X_train_small_standard,Y_train_small)\n",
        "    print(\"SVM on small dataset with Standard Scaler preprocessing\")\n",
        "    y_pred_svm_train_standard=clf_svm_standard.predict(X_train_small_standard) \n",
        "    y_pred_svm_val_standard=clf_svm_standard.predict(X_val_small_standard)\n",
        "    y_pred_svm_test_standard=clf_svm_standard.predict(X_test_small_standard)\n",
        "    accuracy_values_train.append(accuracy_score(Y_train_small,y_pred_svm_train_standard)) \n",
        "    accuracy_values_val.append(accuracy_score(Y_val_small,y_pred_svm_val_standard)) \n",
        "    accuracy_values_test.append(accuracy_score(Y_test_small,y_pred_svm_test_standard))\n",
        "\n",
        "  end_time_svm=time.time()\n",
        "  print(\"Execution time: %s\" %(end_time_svm-start_time_svm))\n",
        "  print(\"Accuracy on the Training set: %s\" %accuracy_values_train[0])\n",
        "  print(\"Accuracy on the Validation set: %s\" %accuracy_values_val[0])\n",
        "  print(\"Accuracy on the Test set: %s\" %accuracy_values_test[0])\n",
        "\n",
        "  return accuracy_values_train[0],accuracy_values_val[0], accuracy_values_test[0]\n"
      ],
      "metadata": {
        "id": "dAcW9Hm2g3hc"
      },
      "execution_count": 7,
      "outputs": []
    },
    {
      "cell_type": "markdown",
      "source": [
        "Now we can see which is the best preprocessing both on the small dataset and the big dataset."
      ],
      "metadata": {
        "id": "wyfkzmTM9TE4"
      }
    },
    {
      "cell_type": "code",
      "source": [
        "#small dataset\n",
        "start_time = time.time()\n",
        "s = True\n",
        "acc_val = 0\n",
        "acc_train = 0\n",
        "acc_test = 0\n",
        "k_opt = 0\n",
        "optimal_hyperparameter = None\n",
        "\n",
        "for prep in [False,\"MinMax\",\"Standard\"]:\n",
        "  start_svm_time = time.time()\n",
        "  result = svm_function(small = s, preprocessing = prep)\n",
        "  end_svm_time = time.time()\n",
        "  if result[1] > acc_val:\n",
        "    acc_test = result[2]\n",
        "    acc_val = result[1]\n",
        "    acc_train = result[0]\n",
        "    optimal_hyperparameter = prep\n",
        "  print(\"Iteration execution time: {:.5f}\".format(end_svm_time - start_svm_time))\n",
        "  print(\"Optimal hyperparameter adjusted!\")\n",
        "  print(\"-------------------------------------------------------------------\")\n",
        "\n",
        "print(\"Optimal hyperparameter is : {}\".format(optimal_hyperparameter))\n",
        "print(\"The optimal parameter produce accuracy train: {}, accuracy validation: {} and accuracy test: {}\".format(acc_train,acc_val,acc_test))\n",
        "end_time = time.time() \n",
        "print(\"Execution time: {:.5f}\".format(end_time-start_time))"
      ],
      "metadata": {
        "colab": {
          "base_uri": "https://localhost:8080/"
        },
        "id": "dnTlACsbmSUt",
        "outputId": "2a275a41-44aa-401f-9f28-b95ae44cebce"
      },
      "execution_count": 8,
      "outputs": [
        {
          "output_type": "stream",
          "name": "stdout",
          "text": [
            "SVM on small dataset without preprocessing\n",
            "Execution time: 66.18803215026855\n",
            "Accuracy on the Training set: 0.9836\n",
            "Accuracy on the Validation set: 0.867\n",
            "Accuracy on the Test set: 0.8655\n",
            "Iteration execution time: 66.18972\n",
            "Optimal hyperparameter adjusted!\n",
            "-------------------------------------------------------------------\n",
            "SVM on small dataset with MinMax preprocessing\n",
            "Execution time: 63.35159134864807\n",
            "Accuracy on the Training set: 0.9836\n",
            "Accuracy on the Validation set: 0.8665\n",
            "Accuracy on the Test set: 0.866\n",
            "Iteration execution time: 63.35297\n",
            "Optimal hyperparameter adjusted!\n",
            "-------------------------------------------------------------------\n",
            "SVM on small dataset with Standard Scaler preprocessing\n",
            "Execution time: 74.01190423965454\n",
            "Accuracy on the Training set: 0.992\n",
            "Accuracy on the Validation set: 0.867\n",
            "Accuracy on the Test set: 0.8685\n",
            "Iteration execution time: 74.01341\n",
            "Optimal hyperparameter adjusted!\n",
            "-------------------------------------------------------------------\n",
            "Optimal hyperparameter is : False\n",
            "The optimal parameter produce accuracy train: 0.9836, accuracy validation: 0.867 and accuracy test: 0.8655\n",
            "Execution time: 203.56123\n"
          ]
        }
      ]
    },
    {
      "cell_type": "code",
      "source": [
        "#big dataset\n",
        "start_time = time.time()\n",
        "s = False\n",
        "acc_val = 0\n",
        "acc_train = 0\n",
        "acc_test = 0\n",
        "k_opt = 0\n",
        "optimal_hyperparameter = None\n",
        "\n",
        "for prep in [False,\"MinMax\",\"Standard\"]:\n",
        "  start_svm_time = time.time()\n",
        "  result = svm_function(small = s, preprocessing = prep)\n",
        "  end_svm_time = time.time()\n",
        "  if result[1] > acc_val:\n",
        "    acc_test = result[2]\n",
        "    acc_val = result[1]\n",
        "    acc_train = result[0]\n",
        "    optimal_hyperparameter = prep\n",
        "  print(\"Iteration execution time: {:.5f}\".format(end_svm_time - start_svm_time))\n",
        "  print(\"Optimal hyperparameter adjusted!\")\n",
        "  print(\"-------------------------------------------------------------------\")\n",
        "\n",
        "print(\"Optimal hyperparameter is : {}\".format(optimal_hyperparameter))\n",
        "print(\"The optimal parameter produce accuracy train: {}, accuracy validation: {} and accuracy test: {}\".format(acc_train,acc_val,acc_test))\n",
        "end_time = time.time() \n",
        "print(\"Execution time: {:.5f}\".format(end_time-start_time))"
      ],
      "metadata": {
        "colab": {
          "base_uri": "https://localhost:8080/"
        },
        "id": "47hEUznf9Z89",
        "outputId": "28dfc7bb-082c-4c55-ea5e-e72f2411836e"
      },
      "execution_count": 10,
      "outputs": [
        {
          "output_type": "stream",
          "name": "stdout",
          "text": [
            "SVM without preprocessing\n",
            "Execution time: 1232.4764335155487\n",
            "Accuracy on the Training set: 0.97226\n",
            "Accuracy on the Validation set: 0.9028\n",
            "Accuracy on the Test set: 0.8968\n",
            "Iteration execution time: 1232.47809\n",
            "Optimal hyperparameter adjusted!\n",
            "-------------------------------------------------------------------\n",
            "SVM with MinMax preprocessing\n",
            "Execution time: 1250.6362221240997\n",
            "Accuracy on the Training set: 0.9723\n",
            "Accuracy on the Validation set: 0.9027\n",
            "Accuracy on the Test set: 0.8967\n",
            "Iteration execution time: 1250.63948\n",
            "Optimal hyperparameter adjusted!\n",
            "-------------------------------------------------------------------\n",
            "SVM with Standard Scaler preprocessing\n",
            "Execution time: 1396.8828871250153\n",
            "Accuracy on the Training set: 0.98288\n",
            "Accuracy on the Validation set: 0.9026\n",
            "Accuracy on the Test set: 0.8953\n",
            "Iteration execution time: 1396.88497\n",
            "Optimal hyperparameter adjusted!\n",
            "-------------------------------------------------------------------\n",
            "Optimal hyperparameter is : False\n",
            "The optimal parameter produce accuracy train: 0.97226, accuracy validation: 0.9028 and accuracy test: 0.8968\n",
            "Execution time: 3880.00972\n"
          ]
        }
      ]
    },
    {
      "cell_type": "markdown",
      "source": [
        "What if we try a grid search on the big dataset?"
      ],
      "metadata": {
        "id": "VhJTfEk59ddu"
      }
    },
    {
      "cell_type": "code",
      "source": [
        "svc_grid_params = {'C': ( 0.1, 1, 10, 100),'kernel': ('rbf', 'linear')}\n",
        "start_time_grid_svm = time.time()\n",
        "model = svm.SVC(random_state = 123)\n",
        "clf_svm = GridSearchCV(estimator = model,param_grid = svc_grid_params, scoring='accuracy',n_jobs= -1, cv = 5, verbose = 1)\n",
        "clf_svm.fit(X_train,Y_train,n_jobs= -1)\n",
        "end_time_grid_svm = time.time()\n",
        "print(\"Best hyperparameters: {}\".format(clf_svm.best_params_))\n",
        "print(\"Best accuracy score: {:.5f}\".format(clf_svm.best_score_))\n",
        "print(\"Esecution time of the GridSearch: {:.5f}\".format(end_time_grid_svm-start_time_grid_svm))"
      ],
      "metadata": {
        "id": "V4tslg89tR_Y"
      },
      "execution_count": null,
      "outputs": []
    },
    {
      "cell_type": "markdown",
      "source": [
        "If the last grid search is fast enoght we can try to train an svm on the big dataset with the hyperparameters just found. Unlucky it does not run (3 hours time and an error)."
      ],
      "metadata": {
        "id": "nc52-V739gwp"
      }
    },
    {
      "cell_type": "markdown",
      "source": [
        "# Neural Network"
      ],
      "metadata": {
        "id": "goToMlRmmouU"
      }
    },
    {
      "cell_type": "code",
      "source": [
        "#transorming data labels into categorical\n",
        "Y_train_original_cat=to_categorical(Y_train_original,10)\n",
        "Y_train_cat=to_categorical(Y_train,10)\n",
        "Y_val_cat=to_categorical(Y_val,10)\n",
        "Y_test_cat=to_categorical(Y_test,10)\n",
        "Y_train_small_cat=to_categorical(Y_train_small,10)\n",
        "Y_val_small_cat=to_categorical(Y_val_small,10)\n",
        "Y_test_small_cat=to_categorical(Y_test_small,10)"
      ],
      "metadata": {
        "id": "OYI47Y0OPkN5"
      },
      "execution_count": 54,
      "outputs": []
    },
    {
      "cell_type": "markdown",
      "source": [
        "Note that in order that the NN works with keras data have to be scaled, so we are not using unpreprocessed data."
      ],
      "metadata": {
        "id": "2gshvBEnDWfR"
      }
    },
    {
      "cell_type": "markdown",
      "source": [
        "## Grid Seach on NNs on small dataset"
      ],
      "metadata": {
        "id": "iAcMPFtr-KVb"
      }
    },
    {
      "cell_type": "code",
      "source": [
        "#function for define and train many NN, \n",
        "#then see which one is the best on the validation set and then use it on the whole batch \n",
        "#finally testing it on the test set\n",
        "\n",
        "def nn_creator(X, #training set (must be scaled before)\n",
        "               Y, #training set labels (not yet to_categorical)\n",
        "               vec_nodes=[400,100], \n",
        "               n_epochs = 30, \n",
        "               stop = True, #T/F\n",
        "               n_patience = 3, #number of epochs without improvements \n",
        "               opt='sgd', #optimized (can choose 'sgd', 'adam', 'rmsprop')\n",
        "               dropout_prob =0.2, #Regularization dropout (removing node with prob 0.2)\n",
        "               n_batch_size = 16,\n",
        "               ): \n",
        "               \n",
        "    features=np.shape(X)[1]\n",
        "    num_classes=len(set(Y))\n",
        "    \n",
        "    np.random.seed(17)\n",
        "    set_random_seed(2)\n",
        "\n",
        "    #EarlyStopping\n",
        "    if stop=='True':\n",
        "      early_stopping=EarlyStopping(monitor='val_loss', #quantity to be monitored\n",
        "                    mode='min', #we look for decreasing patterns stop \n",
        "                    patience = n_patience, #number of epochs with no improvements\n",
        "                    verbose=1)\n",
        "    else:\n",
        "      early_stopping=None\n",
        "    \n",
        "    model=Sequential()\n",
        "    n_layers=len(vec_nodes)\n",
        "    if n_layers==0:\n",
        "      model.add(Dense(input_dim=features, \n",
        "                      units = num_classes, \n",
        "                      activation= 'softmax'))\n",
        "    else:\n",
        "      for i in range(n_layers):\n",
        "        if i==0:\n",
        "          model.add(Dense(input_dim=features,\n",
        "                          units=vec_nodes[0],\n",
        "                          activation='relu'))\n",
        "        else: \n",
        "          model.add(Dropout(dropout_prob))\n",
        "          model.add(Dense(units=vec_nodes[i],\n",
        "                          activation='relu'))\n",
        "      model.add(Dense(units = num_classes, \n",
        "                      activation= 'softmax'))\n",
        "    \n",
        "    #configure the model\n",
        "    model.compile(loss='categorical_crossentropy', \n",
        "                optimizer=opt, \n",
        "                metrics=['accuracy']) \n",
        "\n",
        "    #training\n",
        "    Y=to_categorical(Y,num_classes)\n",
        "    train=model.fit(X,Y,epochs=n_epochs,\n",
        "                    batch_size=n_batch_size, \n",
        "                    verbose=0,\n",
        "                    validation_split=0.1,\n",
        "                    callbacks=early_stopping)\n",
        "    \n",
        "    return model,train"
      ],
      "metadata": {
        "id": "8SyhVzQ--OQa"
      },
      "execution_count": 55,
      "outputs": []
    },
    {
      "cell_type": "code",
      "source": [
        "'''\n",
        "vec_nodes_list=[[784],[784,10]]\n",
        "n_epochs_list=[100,500]\n",
        "n_patience_list=[5,15,25]\n",
        "opt_list=['sgd','adam','rmsprop']\n",
        "dropout_prob_list = [0,0.2,0.5]\n",
        "batch_size_list = [64,128,256]\n",
        "preprocessing_list = [\"Standard\",\"MinMax\"]\n",
        "'''\n",
        "'''\n",
        "Accuracy: 0.86650, Execution time: 46.09 -- MinMax with epochs: 100, vector nodes: (784,), patince: 5, optimizator: adam, dropout: 0, batch size: 256\n",
        "Accuracy: 0.86650, Execution time: 80.53 -- Standard with epochs: 100, vector nodes: (784,), patince: 5, optimizator: adam, dropout: 0, batch size: 128\n",
        "'''\n",
        "\n",
        "vec_nodes_list=[[784],[784,10],[784,10000],[784,382,382,10]]\n",
        "n_epochs_list=[100]\n",
        "n_patience_list=[5]\n",
        "opt_list=['adam']\n",
        "dropout_prob_list = [0.2]\n",
        "batch_size_list = [256]\n",
        "preprocessing_list = [\"Standard\",\"MinMax\"]\n",
        "\n",
        "grid = list(itertools.product(preprocessing_list,vec_nodes_list,n_epochs_list,n_patience_list,opt_list,dropout_prob_list,batch_size_list))\n",
        "\n",
        "#lets save the maximum accuracy\n",
        "acc=0\n",
        "accuracy_test=[]\n",
        "i=0\n",
        "search_results=dict()\n",
        "\n",
        "#grid-search\n",
        "for elem in grid: \n",
        "  preproc = elem[0]\n",
        "  v = elem[1]\n",
        "  n_ep = elem[2]\n",
        "  n_pat = elem[3]\n",
        "  optim = elem[4]\n",
        "  dop = elem[5]\n",
        "  bs = elem[6]\n",
        "  iteration_start_time = time.time()\n",
        "  if preproc == \"MinMax\":\n",
        "    nn_model, nn_train = nn_creator(X=X_train_small_minmax, Y=Y_train_small, vec_nodes=v, \n",
        "                                    n_epochs=n_ep, stop = True, n_patience = n_pat, opt = optim, dropout_prob = dop, n_batch_size = bs)\n",
        "  if preproc == \"Standard\":\n",
        "    nn_model, nn_train = nn_creator(X=X_train_small_standard, Y=Y_train_small, vec_nodes=v, \n",
        "                                    n_epochs=n_ep, stop = True, n_patience = n_pat, opt = optim, dropout_prob = dop, n_batch_size = bs)                \n",
        "  iteration_end_time=time.time()\n",
        "  execution_time = iteration_end_time - iteration_start_time            \n",
        "  #save the greatest accuracy\n",
        "  if preproc==\"MinMax\": \n",
        "    accuracy_val=nn_model.evaluate(X_val_small_minmax,Y_val_small_cat,verbose=0)[1]\n",
        "    search_results[(\"MinMax\",n_ep,tuple(v),n_pat,optim,dop,bs)]=accuracy_val\n",
        "    print(\"Accuracy: {:.5f}, Execution time: {:.2f} -- MinMax with epochs: {}, vector nodes: {}, patince: {}, optimizator: {}, dropout: {}, batch size: {}\".format(accuracy_val,execution_time,n_ep,tuple(v),n_pat,optim,dop,bs))\n",
        "  if preproc==\"Standard\":\n",
        "    accuracy_val=nn_model.evaluate(X_val_small_standard,Y_val_small_cat,verbose=0)[1]\n",
        "    search_results[(\"Standard\",n_ep,tuple(v),n_pat,optim,dop,bs)]=accuracy_val\n",
        "    print(\"Accuracy: {:.5f}, Execution time: {:.2f} -- Standard with epochs: {}, vector nodes: {}, patince: {}, optimizator: {}, dropout: {}, batch size: {}\".format(accuracy_val,execution_time,n_ep,tuple(v),n_pat,optim,dop,bs))\n",
        "  if accuracy_val>acc:\n",
        "    acc=accuracy_val\n",
        "    optimal_hyperparameters=[n_ep,v,n_pat,optim,dop,bs]\n",
        "    optimal_model=nn_model\n",
        "    accuracy_test.append(accuracy_val)\n",
        "    print(\"Omptimal hyperparameters adjusted!\")\n",
        "\n",
        "  print(\"Just ended the analysis of model number: {}\".format(i+1))\n",
        "  i+=1\n",
        "  print(\"----------------------------------------------------\")\n",
        "         \n",
        "print('\\n\\n\\n')\n",
        "print(optimal_model.summary())\n",
        "print('best parameters: ', optimal_hyperparameters)\n",
        "plt.plot(accuracy_test)\n",
        "plt.title(f\"accuracy growing\")\n",
        "plt.ylabel('accuracy')\n",
        "plt.xlabel('grid search')\n",
        "plt.legend(['test acc'], loc='best)\n",
        "plt.show()\n",
        "\n",
        "print(search_results)"
      ],
      "metadata": {
        "colab": {
          "base_uri": "https://localhost:8080/",
          "height": 1000
        },
        "id": "sJPpt4PTLEkJ",
        "outputId": "cffdfa4c-2952-4e55-f86c-bc3501e07cb7"
      },
      "execution_count": null,
      "outputs": [
        {
          "output_type": "stream",
          "name": "stdout",
          "text": [
            "Accuracy: 0.86000, Execution time: 77.29 -- Standard with epochs: 100, vector nodes: (784,), patince: 5, optimizator: adam, dropout: 0.2, batch size: 256\n",
            "Omptimal hyperparameters adjusted!\n",
            "Just ended the analysis of model number: 1\n",
            "----------------------------------------------------\n",
            "Accuracy: 0.85850, Execution time: 77.44 -- Standard with epochs: 100, vector nodes: (784, 10), patince: 5, optimizator: adam, dropout: 0.2, batch size: 256\n",
            "Just ended the analysis of model number: 2\n",
            "----------------------------------------------------\n",
            "Accuracy: 0.86200, Execution time: 1134.16 -- Standard with epochs: 100, vector nodes: (784, 10000), patince: 5, optimizator: adam, dropout: 0.2, batch size: 256\n",
            "Omptimal hyperparameters adjusted!\n",
            "Just ended the analysis of model number: 3\n",
            "----------------------------------------------------\n",
            "Accuracy: 0.84550, Execution time: 223.87 -- Standard with epochs: 100, vector nodes: (784, 382, 382, 10), patince: 5, optimizator: adam, dropout: 0.2, batch size: 256\n",
            "Just ended the analysis of model number: 4\n",
            "----------------------------------------------------\n",
            "Accuracy: 0.86350, Execution time: 64.80 -- MinMax with epochs: 100, vector nodes: (784,), patince: 5, optimizator: adam, dropout: 0.2, batch size: 256\n",
            "Omptimal hyperparameters adjusted!\n",
            "Just ended the analysis of model number: 5\n",
            "----------------------------------------------------\n",
            "Accuracy: 0.85950, Execution time: 73.90 -- MinMax with epochs: 100, vector nodes: (784, 10), patince: 5, optimizator: adam, dropout: 0.2, batch size: 256\n",
            "Just ended the analysis of model number: 6\n",
            "----------------------------------------------------\n",
            "Accuracy: 0.86050, Execution time: 1070.90 -- MinMax with epochs: 100, vector nodes: (784, 10000), patince: 5, optimizator: adam, dropout: 0.2, batch size: 256\n",
            "Just ended the analysis of model number: 7\n",
            "----------------------------------------------------\n",
            "Accuracy: 0.86500, Execution time: 138.35 -- MinMax with epochs: 100, vector nodes: (784, 382, 382, 10), patince: 5, optimizator: adam, dropout: 0.2, batch size: 256\n",
            "Omptimal hyperparameters adjusted!\n",
            "Just ended the analysis of model number: 8\n",
            "----------------------------------------------------\n",
            "\n",
            "\n",
            "\n",
            "\n",
            "Model: \"sequential_18\"\n",
            "_________________________________________________________________\n",
            " Layer (type)                Output Shape              Param #   \n",
            "=================================================================\n",
            " dense_48 (Dense)            (None, 784)               615440    \n",
            "                                                                 \n",
            " dropout_12 (Dropout)        (None, 784)               0         \n",
            "                                                                 \n",
            " dense_49 (Dense)            (None, 382)               299870    \n",
            "                                                                 \n",
            " dropout_13 (Dropout)        (None, 382)               0         \n",
            "                                                                 \n",
            " dense_50 (Dense)            (None, 382)               146306    \n",
            "                                                                 \n",
            " dropout_14 (Dropout)        (None, 382)               0         \n",
            "                                                                 \n",
            " dense_51 (Dense)            (None, 10)                3830      \n",
            "                                                                 \n",
            " dense_52 (Dense)            (None, 10)                110       \n",
            "                                                                 \n",
            "=================================================================\n",
            "Total params: 1,065,556\n",
            "Trainable params: 1,065,556\n",
            "Non-trainable params: 0\n",
            "_________________________________________________________________\n",
            "None\n",
            "best parameters:  [100, [784, 382, 382, 10], 5, 'adam', 0.2, 256]\n"
          ]
        },
        {
          "output_type": "display_data",
          "data": {
            "text/plain": [
              "<Figure size 432x288 with 1 Axes>"
            ],
            "image/png": "[encoded data removed]"
          },
          "metadata": {
            "needs_background": "light"
          }
        },
        {
          "output_type": "stream",
          "name": "stdout",
          "text": [
            "{('Standard', 100, (784,), 5, 'adam', 0.2, 256): 0.8600000143051147, ('Standard', 100, (784, 10), 5, 'adam', 0.2, 256): 0.8585000038146973, ('Standard', 100, (784, 10000), 5, 'adam', 0.2, 256): 0.8619999885559082, ('Standard', 100, (784, 382, 382, 10), 5, 'adam', 0.2, 256): 0.8454999923706055, ('MinMax', 100, (784,), 5, 'adam', 0.2, 256): 0.8634999990463257, ('MinMax', 100, (784, 10), 5, 'adam', 0.2, 256): 0.859499990940094, ('MinMax', 100, (784, 10000), 5, 'adam', 0.2, 256): 0.8604999780654907, ('MinMax', 100, (784, 382, 382, 10), 5, 'adam', 0.2, 256): 0.8650000095367432}\n"
          ]
        }
      ]
    },
    {
      "cell_type": "markdown",
      "source": [
        "Hence the best hyperparameters we found are epochs: 100, architecture: [784, 382, 382, 10], patience: 5, optimizer: 'adam', dropout: 0.2, mini batch size: 256, preprocessing: MinMax. We procede to train a neural network with a bit more of patience (15) and the same hyperparameters. "
      ],
      "metadata": {
        "id": "Bq1SIWo3Wt8B"
      }
    },
    {
      "cell_type": "markdown",
      "source": [
        "## Neural Network on hyperparameters just found"
      ],
      "metadata": {
        "id": "VWn7ytONW8H6"
      }
    },
    {
      "cell_type": "code",
      "source": [
        "#early stopping\n",
        "stop=EarlyStopping(monitor='val_loss', mode='min', patience = 15, verbose = 1)\n",
        "features=np.shape(X_train)[1]\n",
        "\n",
        "start_time = time.time()\n",
        "np.random.seed(17)\n",
        "set_random_seed(2)\n",
        "\n",
        "v= [784, 382, 382, 10]\n",
        "n_ep = 100 \n",
        "n_pat = 15 \n",
        "optim = 'adam'\n",
        "dop = 0.2\n",
        "bs = 256\n",
        "\n",
        "nn_model, nn_train = nn_creator(X=X_train_minmax, Y=Y_train, vec_nodes=v, \n",
        "                                    n_epochs=n_ep, stop = True, n_patience = n_pat, opt = optim, dropout_prob = dop, n_batch_size = bs)\n",
        "\n",
        "end_time = time.time()\n",
        "print(nn_model.summary())\n",
        "\n",
        "print(\"Execution time: {:.5f}\".format(end_time-start_time))\n"
      ],
      "metadata": {
        "id": "joTR3juiW7gW",
        "colab": {
          "base_uri": "https://localhost:8080/"
        },
        "outputId": "6d0e47d7-7901-4110-a842-6655c04937e4"
      },
      "execution_count": 56,
      "outputs": [
        {
          "output_type": "stream",
          "name": "stdout",
          "text": [
            "Model: \"sequential_3\"\n",
            "_________________________________________________________________\n",
            " Layer (type)                Output Shape              Param #   \n",
            "=================================================================\n",
            " dense_15 (Dense)            (None, 784)               615440    \n",
            "                                                                 \n",
            " dropout_9 (Dropout)         (None, 784)               0         \n",
            "                                                                 \n",
            " dense_16 (Dense)            (None, 382)               299870    \n",
            "                                                                 \n",
            " dropout_10 (Dropout)        (None, 382)               0         \n",
            "                                                                 \n",
            " dense_17 (Dense)            (None, 382)               146306    \n",
            "                                                                 \n",
            " dropout_11 (Dropout)        (None, 382)               0         \n",
            "                                                                 \n",
            " dense_18 (Dense)            (None, 10)                3830      \n",
            "                                                                 \n",
            " dense_19 (Dense)            (None, 10)                110       \n",
            "                                                                 \n",
            "=================================================================\n",
            "Total params: 1,065,556\n",
            "Trainable params: 1,065,556\n",
            "Non-trainable params: 0\n",
            "_________________________________________________________________\n",
            "None\n",
            "Execution time: 82.56390\n"
          ]
        }
      ]
    },
    {
      "cell_type": "code",
      "source": [
        "#display the accuracy \n",
        "plt.plot(nn_train.history['accuracy'])\n",
        "plt.plot(nn_train.history['val_accuracy'])\n",
        "plt.title('model accuracy')\n",
        "plt.ylabel('accuracy')\n",
        "plt.xlabel('epoch')\n",
        "plt.legend(['Train','Validation'],loc='best')\n",
        "plt.show()\n",
        "\n",
        "#make prediction on training, validation set and test set\n",
        "y_pred_nn_train=nn_model.predict(X_train_minmax).argmax(axis = 1) \n",
        "y_pred_nn_val=nn_model.predict(X_val_minmax).argmax(axis = 1) \n",
        "y_pred_nn_test=nn_model.predict(X_test_minmax).argmax(axis = 1) \n",
        "\n",
        "#make prediction on the small dataset just to have the data\n",
        "y_pred_nn_train_small=nn_model.predict(X_train_small_minmax).argmax(axis = 1) \n",
        "y_pred_nn_val_small=nn_model.predict(X_val_small_minmax).argmax(axis = 1) \n",
        "y_pred_nn_test_small=nn_model.predict(X_test_small_minmax).argmax(axis = 1) \n",
        "\n",
        "print('MinMax')\n",
        "print(f'accuracy on train set: {accuracy_score(Y_train,y_pred_nn_train):.5f}, acc on validation set:{accuracy_score(Y_val,y_pred_nn_val):.5f}, acc on test set:{accuracy_score(Y_test,y_pred_nn_test):.5f}')\n",
        "print(f'accuracy on small train set: {accuracy_score(Y_train_small,y_pred_nn_train_small):.5f}, acc on small validation set:{accuracy_score(Y_val_small,y_pred_nn_val_small):.5f}, acc on small test set:{accuracy_score(Y_test_small,y_pred_nn_test_small):.5f}')"
      ],
      "metadata": {
        "id": "Lq22CGDeXFw1",
        "colab": {
          "base_uri": "https://localhost:8080/",
          "height": 347
        },
        "outputId": "3a72da37-fc0b-4408-ac19-65b78c3207e3"
      },
      "execution_count": 58,
      "outputs": [
        {
          "output_type": "display_data",
          "data": {
            "text/plain": [
              "<Figure size 432x288 with 1 Axes>"
            ],
            "image/png": "[encoded data removed]"
          },
          "metadata": {
            "needs_background": "light"
          }
        },
        {
          "output_type": "stream",
          "name": "stdout",
          "text": [
            "MinMax\n",
            "accuracy on train set: 0.97252, acc on validation set:0.89810, acc on test set:0.89740\n",
            "accuracy on small train set: 0.97230, acc on small validation set:0.89450, acc on small test set:0.89400\n"
          ]
        }
      ]
    }
  ]
}